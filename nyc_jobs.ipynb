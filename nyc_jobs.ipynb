{
 "cells": [
  {
   "cell_type": "code",
   "execution_count": 60,
   "id": "565c31f8-595c-4503-a5d8-d07f5afdea7e",
   "metadata": {},
   "outputs": [],
   "source": [
    "# Dependencies and Setup\n",
    "import os\n",
    "import shutil\n",
    "from zipfile import ZipFile\n",
    "\n",
    "import matplotlib.pyplot as plt\n",
    "import pandas as pd\n",
    "import requests\n",
    "import scipy.stats as st\n",
    "from scipy.stats import linregress\n",
    "from pathlib import Path"
   ]
  },
  {
   "cell_type": "code",
   "execution_count": 65,
   "id": "7dab89aa-87ee-4edf-b15a-a890b284262a",
   "metadata": {},
   "outputs": [],
   "source": [
    "# Notebook configuration\n",
    "verbose = True  # Only set this to true for debugging\n",
    "# verbose = False"
   ]
  },
  {
   "cell_type": "code",
   "execution_count": 66,
   "id": "bf24a3b8-5d0d-4567-a283-7cebcf508221",
   "metadata": {},
   "outputs": [],
   "source": [
    "# The BLS files have all the county employment / wage info for our selected years and\n",
    "# counties.\n",
    "\n",
    "# Do not need anymore, keeping in case we missed something.\n",
    "# nys_industycounty_path = \"housing_data/NYS_Industry_by_County.csv\"\n",
    "\n",
    "# Study parameters\n",
    "\n",
    "# Years 2012 - 2022\n",
    "years = [2012, 2013, 2014, 2015, 2016, 2017, 2018,  # Before pandemic lockdown\n",
    "         2019, 2020, 2021, 2022]  # During and after pandemic lockdown\n",
    "\n",
    "# All NYC Boroughs and geographically adjacent counties\n",
    "counties = [\n",
    "    # NYC Boroughs\n",
    "    \"Bronx County, New York\",\n",
    "    \"Kings County, New York\",  # Brooklyn\n",
    "    \"New York County, New York\",  # Manhattan\n",
    "    \"Queens County, New York\",\n",
    "    \"Richmond County, New York\",  # Staten Island\n",
    "\n",
    "    # Counties adjacent to NYC Boroughs\n",
    "    \"Bergen County, New Jersey\",\n",
    "    \"Nassau County, New York\",\n",
    "    \"Hudson County, New Jersey\",\n",
    "    \"Westchester County, New York\",\n",
    "    \"Rockland County, New York\",\n",
    "    \"Fairfield County, Connecticut\",\n",
    "]"
   ]
  },
  {
   "cell_type": "code",
   "execution_count": 69,
   "id": "f41b5e0d-0f28-4819-9414-f92664b6ae17",
   "metadata": {},
   "outputs": [
    {
     "name": "stdout",
     "output_type": "stream",
     "text": [
      "BLS employment / wage info csv for year=2012 and county='Fairfield County, Connecticut': path='housing_data/2012.q1-q4 09001 Fairfield County, Connecticut.csv'\n",
      "BLS employment / wage info csv for year=2012 and county='Bergen County, New Jersey': path='housing_data/2012.q1-q4 34003 Bergen County, New Jersey.csv'\n",
      "BLS employment / wage info csv for year=2012 and county='Hudson County, New Jersey': path='housing_data/2012.q1-q4 34017 Hudson County, New Jersey.csv'\n",
      "BLS employment / wage info csv for year=2012 and county='Bronx County, New York': path='housing_data/2012.q1-q4 36005 Bronx County, New York.csv'\n",
      "BLS employment / wage info csv for year=2012 and county='Kings County, New York': path='housing_data/2012.q1-q4 36047 Kings County, New York.csv'\n",
      "BLS employment / wage info csv for year=2012 and county='Nassau County, New York': path='housing_data/2012.q1-q4 36059 Nassau County, New York.csv'\n",
      "BLS employment / wage info csv for year=2012 and county='New York County, New York': path='housing_data/2012.q1-q4 36061 New York County, New York.csv'\n",
      "BLS employment / wage info csv for year=2012 and county='Queens County, New York': path='housing_data/2012.q1-q4 36081 Queens County, New York.csv'\n",
      "BLS employment / wage info csv for year=2012 and county='Richmond County, New York': path='housing_data/2012.q1-q4 36085 Richmond County, New York.csv'\n",
      "BLS employment / wage info csv for year=2012 and county='Rockland County, New York': path='housing_data/2012.q1-q4 36087 Rockland County, New York.csv'\n",
      "BLS employment / wage info csv for year=2012 and county='Westchester County, New York': path='housing_data/2012.q1-q4 36119 Westchester County, New York.csv'\n",
      "BLS employment / wage info csv for year=2013 and county='Fairfield County, Connecticut': path='housing_data/2013.q1-q4 09001 Fairfield County, Connecticut.csv'\n",
      "BLS employment / wage info csv for year=2013 and county='Bergen County, New Jersey': path='housing_data/2013.q1-q4 34003 Bergen County, New Jersey.csv'\n",
      "BLS employment / wage info csv for year=2013 and county='Hudson County, New Jersey': path='housing_data/2013.q1-q4 34017 Hudson County, New Jersey.csv'\n",
      "BLS employment / wage info csv for year=2013 and county='Bronx County, New York': path='housing_data/2013.q1-q4 36005 Bronx County, New York.csv'\n",
      "BLS employment / wage info csv for year=2013 and county='Kings County, New York': path='housing_data/2013.q1-q4 36047 Kings County, New York.csv'\n",
      "BLS employment / wage info csv for year=2013 and county='Nassau County, New York': path='housing_data/2013.q1-q4 36059 Nassau County, New York.csv'\n",
      "BLS employment / wage info csv for year=2013 and county='New York County, New York': path='housing_data/2013.q1-q4 36061 New York County, New York.csv'\n",
      "BLS employment / wage info csv for year=2013 and county='Queens County, New York': path='housing_data/2013.q1-q4 36081 Queens County, New York.csv'\n",
      "BLS employment / wage info csv for year=2013 and county='Richmond County, New York': path='housing_data/2013.q1-q4 36085 Richmond County, New York.csv'\n",
      "BLS employment / wage info csv for year=2013 and county='Rockland County, New York': path='housing_data/2013.q1-q4 36087 Rockland County, New York.csv'\n",
      "BLS employment / wage info csv for year=2013 and county='Westchester County, New York': path='housing_data/2013.q1-q4 36119 Westchester County, New York.csv'\n",
      "BLS employment / wage info csv for year=2014 and county='Fairfield County, Connecticut': path='housing_data/2014.q1-q4 09001 Fairfield County, Connecticut.csv'\n",
      "BLS employment / wage info csv for year=2014 and county='Bergen County, New Jersey': path='housing_data/2014.q1-q4 34003 Bergen County, New Jersey.csv'\n",
      "BLS employment / wage info csv for year=2014 and county='Hudson County, New Jersey': path='housing_data/2014.q1-q4 34017 Hudson County, New Jersey.csv'\n",
      "BLS employment / wage info csv for year=2014 and county='Bronx County, New York': path='housing_data/2014.q1-q4 36005 Bronx County, New York.csv'\n",
      "BLS employment / wage info csv for year=2014 and county='Kings County, New York': path='housing_data/2014.q1-q4 36047 Kings County, New York.csv'\n",
      "BLS employment / wage info csv for year=2014 and county='Nassau County, New York': path='housing_data/2014.q1-q4 36059 Nassau County, New York.csv'\n",
      "BLS employment / wage info csv for year=2014 and county='New York County, New York': path='housing_data/2014.q1-q4 36061 New York County, New York.csv'\n",
      "BLS employment / wage info csv for year=2014 and county='Queens County, New York': path='housing_data/2014.q1-q4 36081 Queens County, New York.csv'\n",
      "BLS employment / wage info csv for year=2014 and county='Richmond County, New York': path='housing_data/2014.q1-q4 36085 Richmond County, New York.csv'\n",
      "BLS employment / wage info csv for year=2014 and county='Rockland County, New York': path='housing_data/2014.q1-q4 36087 Rockland County, New York.csv'\n",
      "BLS employment / wage info csv for year=2014 and county='Westchester County, New York': path='housing_data/2014.q1-q4 36119 Westchester County, New York.csv'\n",
      "BLS employment / wage info csv for year=2015 and county='Fairfield County, Connecticut': path='housing_data/2015.q1-q4 09001 Fairfield County, Connecticut.csv'\n",
      "BLS employment / wage info csv for year=2015 and county='Bergen County, New Jersey': path='housing_data/2015.q1-q4 34003 Bergen County, New Jersey.csv'\n",
      "BLS employment / wage info csv for year=2015 and county='Hudson County, New Jersey': path='housing_data/2015.q1-q4 34017 Hudson County, New Jersey.csv'\n",
      "BLS employment / wage info csv for year=2015 and county='Bronx County, New York': path='housing_data/2015.q1-q4 36005 Bronx County, New York.csv'\n",
      "BLS employment / wage info csv for year=2015 and county='Kings County, New York': path='housing_data/2015.q1-q4 36047 Kings County, New York.csv'\n",
      "BLS employment / wage info csv for year=2015 and county='Nassau County, New York': path='housing_data/2015.q1-q4 36059 Nassau County, New York.csv'\n",
      "BLS employment / wage info csv for year=2015 and county='New York County, New York': path='housing_data/2015.q1-q4 36061 New York County, New York.csv'\n",
      "BLS employment / wage info csv for year=2015 and county='Queens County, New York': path='housing_data/2015.q1-q4 36081 Queens County, New York.csv'\n",
      "BLS employment / wage info csv for year=2015 and county='Richmond County, New York': path='housing_data/2015.q1-q4 36085 Richmond County, New York.csv'\n",
      "BLS employment / wage info csv for year=2015 and county='Rockland County, New York': path='housing_data/2015.q1-q4 36087 Rockland County, New York.csv'\n",
      "BLS employment / wage info csv for year=2015 and county='Westchester County, New York': path='housing_data/2015.q1-q4 36119 Westchester County, New York.csv'\n",
      "BLS employment / wage info csv for year=2016 and county='Fairfield County, Connecticut': path='housing_data/2016.q1-q4 09001 Fairfield County, Connecticut.csv'\n",
      "BLS employment / wage info csv for year=2016 and county='Bergen County, New Jersey': path='housing_data/2016.q1-q4 34003 Bergen County, New Jersey.csv'\n",
      "BLS employment / wage info csv for year=2016 and county='Hudson County, New Jersey': path='housing_data/2016.q1-q4 34017 Hudson County, New Jersey.csv'\n",
      "BLS employment / wage info csv for year=2016 and county='Bronx County, New York': path='housing_data/2016.q1-q4 36005 Bronx County, New York.csv'\n",
      "BLS employment / wage info csv for year=2016 and county='Kings County, New York': path='housing_data/2016.q1-q4 36047 Kings County, New York.csv'\n",
      "BLS employment / wage info csv for year=2016 and county='Nassau County, New York': path='housing_data/2016.q1-q4 36059 Nassau County, New York.csv'\n",
      "BLS employment / wage info csv for year=2016 and county='New York County, New York': path='housing_data/2016.q1-q4 36061 New York County, New York.csv'\n",
      "BLS employment / wage info csv for year=2016 and county='Queens County, New York': path='housing_data/2016.q1-q4 36081 Queens County, New York.csv'\n",
      "BLS employment / wage info csv for year=2016 and county='Richmond County, New York': path='housing_data/2016.q1-q4 36085 Richmond County, New York.csv'\n",
      "BLS employment / wage info csv for year=2016 and county='Rockland County, New York': path='housing_data/2016.q1-q4 36087 Rockland County, New York.csv'\n",
      "BLS employment / wage info csv for year=2016 and county='Westchester County, New York': path='housing_data/2016.q1-q4 36119 Westchester County, New York.csv'\n",
      "BLS employment / wage info csv for year=2017 and county='Fairfield County, Connecticut': path='housing_data/2017.q1-q4 09001 Fairfield County, Connecticut.csv'\n",
      "BLS employment / wage info csv for year=2017 and county='Bergen County, New Jersey': path='housing_data/2017.q1-q4 34003 Bergen County, New Jersey.csv'\n",
      "BLS employment / wage info csv for year=2017 and county='Hudson County, New Jersey': path='housing_data/2017.q1-q4 34017 Hudson County, New Jersey.csv'\n",
      "BLS employment / wage info csv for year=2017 and county='Bronx County, New York': path='housing_data/2017.q1-q4 36005 Bronx County, New York.csv'\n",
      "BLS employment / wage info csv for year=2017 and county='Kings County, New York': path='housing_data/2017.q1-q4 36047 Kings County, New York.csv'\n",
      "BLS employment / wage info csv for year=2017 and county='Nassau County, New York': path='housing_data/2017.q1-q4 36059 Nassau County, New York.csv'\n",
      "BLS employment / wage info csv for year=2017 and county='New York County, New York': path='housing_data/2017.q1-q4 36061 New York County, New York.csv'\n",
      "BLS employment / wage info csv for year=2017 and county='Queens County, New York': path='housing_data/2017.q1-q4 36081 Queens County, New York.csv'\n",
      "BLS employment / wage info csv for year=2017 and county='Richmond County, New York': path='housing_data/2017.q1-q4 36085 Richmond County, New York.csv'\n",
      "BLS employment / wage info csv for year=2017 and county='Rockland County, New York': path='housing_data/2017.q1-q4 36087 Rockland County, New York.csv'\n",
      "BLS employment / wage info csv for year=2017 and county='Westchester County, New York': path='housing_data/2017.q1-q4 36119 Westchester County, New York.csv'\n",
      "BLS employment / wage info csv for year=2018 and county='Fairfield County, Connecticut': path='housing_data/2018.q1-q4 09001 Fairfield County, Connecticut.csv'\n",
      "BLS employment / wage info csv for year=2018 and county='Bergen County, New Jersey': path='housing_data/2018.q1-q4 34003 Bergen County, New Jersey.csv'\n",
      "BLS employment / wage info csv for year=2018 and county='Hudson County, New Jersey': path='housing_data/2018.q1-q4 34017 Hudson County, New Jersey.csv'\n",
      "BLS employment / wage info csv for year=2018 and county='Bronx County, New York': path='housing_data/2018.q1-q4 36005 Bronx County, New York.csv'\n",
      "BLS employment / wage info csv for year=2018 and county='Kings County, New York': path='housing_data/2018.q1-q4 36047 Kings County, New York.csv'\n",
      "BLS employment / wage info csv for year=2018 and county='Nassau County, New York': path='housing_data/2018.q1-q4 36059 Nassau County, New York.csv'\n",
      "BLS employment / wage info csv for year=2018 and county='New York County, New York': path='housing_data/2018.q1-q4 36061 New York County, New York.csv'\n",
      "BLS employment / wage info csv for year=2018 and county='Queens County, New York': path='housing_data/2018.q1-q4 36081 Queens County, New York.csv'\n",
      "BLS employment / wage info csv for year=2018 and county='Richmond County, New York': path='housing_data/2018.q1-q4 36085 Richmond County, New York.csv'\n",
      "BLS employment / wage info csv for year=2018 and county='Rockland County, New York': path='housing_data/2018.q1-q4 36087 Rockland County, New York.csv'\n",
      "BLS employment / wage info csv for year=2018 and county='Westchester County, New York': path='housing_data/2018.q1-q4 36119 Westchester County, New York.csv'\n",
      "BLS employment / wage info csv for year=2019 and county='Fairfield County, Connecticut': path='housing_data/2019.q1-q4 09001 Fairfield County, Connecticut.csv'\n",
      "BLS employment / wage info csv for year=2019 and county='Bergen County, New Jersey': path='housing_data/2019.q1-q4 34003 Bergen County, New Jersey.csv'\n",
      "BLS employment / wage info csv for year=2019 and county='Hudson County, New Jersey': path='housing_data/2019.q1-q4 34017 Hudson County, New Jersey.csv'\n",
      "BLS employment / wage info csv for year=2019 and county='Bronx County, New York': path='housing_data/2019.q1-q4 36005 Bronx County, New York.csv'\n",
      "BLS employment / wage info csv for year=2019 and county='Kings County, New York': path='housing_data/2019.q1-q4 36047 Kings County, New York.csv'\n",
      "BLS employment / wage info csv for year=2019 and county='Nassau County, New York': path='housing_data/2019.q1-q4 36059 Nassau County, New York.csv'\n",
      "BLS employment / wage info csv for year=2019 and county='New York County, New York': path='housing_data/2019.q1-q4 36061 New York County, New York.csv'\n",
      "BLS employment / wage info csv for year=2019 and county='Queens County, New York': path='housing_data/2019.q1-q4 36081 Queens County, New York.csv'\n",
      "BLS employment / wage info csv for year=2019 and county='Richmond County, New York': path='housing_data/2019.q1-q4 36085 Richmond County, New York.csv'\n",
      "BLS employment / wage info csv for year=2019 and county='Rockland County, New York': path='housing_data/2019.q1-q4 36087 Rockland County, New York.csv'\n",
      "BLS employment / wage info csv for year=2019 and county='Westchester County, New York': path='housing_data/2019.q1-q4 36119 Westchester County, New York.csv'\n",
      "BLS employment / wage info csv for year=2020 and county='Fairfield County, Connecticut': path='housing_data/2020.q1-q4 09001 Fairfield County, Connecticut.csv'\n",
      "BLS employment / wage info csv for year=2020 and county='Bergen County, New Jersey': path='housing_data/2020.q1-q4 34003 Bergen County, New Jersey.csv'\n",
      "BLS employment / wage info csv for year=2020 and county='Hudson County, New Jersey': path='housing_data/2020.q1-q4 34017 Hudson County, New Jersey.csv'\n",
      "BLS employment / wage info csv for year=2020 and county='Bronx County, New York': path='housing_data/2020.q1-q4 36005 Bronx County, New York.csv'\n",
      "BLS employment / wage info csv for year=2020 and county='Kings County, New York': path='housing_data/2020.q1-q4 36047 Kings County, New York.csv'\n",
      "BLS employment / wage info csv for year=2020 and county='Nassau County, New York': path='housing_data/2020.q1-q4 36059 Nassau County, New York.csv'\n",
      "BLS employment / wage info csv for year=2020 and county='New York County, New York': path='housing_data/2020.q1-q4 36061 New York County, New York.csv'\n",
      "BLS employment / wage info csv for year=2020 and county='Queens County, New York': path='housing_data/2020.q1-q4 36081 Queens County, New York.csv'\n",
      "BLS employment / wage info csv for year=2020 and county='Richmond County, New York': path='housing_data/2020.q1-q4 36085 Richmond County, New York.csv'\n",
      "BLS employment / wage info csv for year=2020 and county='Rockland County, New York': path='housing_data/2020.q1-q4 36087 Rockland County, New York.csv'\n",
      "BLS employment / wage info csv for year=2020 and county='Westchester County, New York': path='housing_data/2020.q1-q4 36119 Westchester County, New York.csv'\n",
      "BLS employment / wage info csv for year=2021 and county='Fairfield County, Connecticut': path='housing_data/2021.q1-q4 09001 Fairfield County, Connecticut.csv'\n",
      "BLS employment / wage info csv for year=2021 and county='Bergen County, New Jersey': path='housing_data/2021.q1-q4 34003 Bergen County, New Jersey.csv'\n",
      "BLS employment / wage info csv for year=2021 and county='Hudson County, New Jersey': path='housing_data/2021.q1-q4 34017 Hudson County, New Jersey.csv'\n",
      "BLS employment / wage info csv for year=2021 and county='Bronx County, New York': path='housing_data/2021.q1-q4 36005 Bronx County, New York.csv'\n",
      "BLS employment / wage info csv for year=2021 and county='Kings County, New York': path='housing_data/2021.q1-q4 36047 Kings County, New York.csv'\n",
      "BLS employment / wage info csv for year=2021 and county='Nassau County, New York': path='housing_data/2021.q1-q4 36059 Nassau County, New York.csv'\n",
      "BLS employment / wage info csv for year=2021 and county='New York County, New York': path='housing_data/2021.q1-q4 36061 New York County, New York.csv'\n",
      "BLS employment / wage info csv for year=2021 and county='Queens County, New York': path='housing_data/2021.q1-q4 36081 Queens County, New York.csv'\n",
      "BLS employment / wage info csv for year=2021 and county='Richmond County, New York': path='housing_data/2021.q1-q4 36085 Richmond County, New York.csv'\n",
      "BLS employment / wage info csv for year=2021 and county='Rockland County, New York': path='housing_data/2021.q1-q4 36087 Rockland County, New York.csv'\n",
      "BLS employment / wage info csv for year=2021 and county='Westchester County, New York': path='housing_data/2021.q1-q4 36119 Westchester County, New York.csv'\n",
      "BLS employment / wage info csv for year=2022 and county='Fairfield County, Connecticut': path='housing_data/2022.q1-q4 09001 Fairfield County, Connecticut.csv'\n",
      "BLS employment / wage info csv for year=2022 and county='Bergen County, New Jersey': path='housing_data/2022.q1-q4 34003 Bergen County, New Jersey.csv'\n",
      "BLS employment / wage info csv for year=2022 and county='Hudson County, New Jersey': path='housing_data/2022.q1-q4 34017 Hudson County, New Jersey.csv'\n",
      "BLS employment / wage info csv for year=2022 and county='Bronx County, New York': path='housing_data/2022.q1-q4 36005 Bronx County, New York.csv'\n",
      "BLS employment / wage info csv for year=2022 and county='Kings County, New York': path='housing_data/2022.q1-q4 36047 Kings County, New York.csv'\n",
      "BLS employment / wage info csv for year=2022 and county='Nassau County, New York': path='housing_data/2022.q1-q4 36059 Nassau County, New York.csv'\n",
      "BLS employment / wage info csv for year=2022 and county='New York County, New York': path='housing_data/2022.q1-q4 36061 New York County, New York.csv'\n",
      "BLS employment / wage info csv for year=2022 and county='Queens County, New York': path='housing_data/2022.q1-q4 36081 Queens County, New York.csv'\n",
      "BLS employment / wage info csv for year=2022 and county='Richmond County, New York': path='housing_data/2022.q1-q4 36085 Richmond County, New York.csv'\n",
      "BLS employment / wage info csv for year=2022 and county='Rockland County, New York': path='housing_data/2022.q1-q4 36087 Rockland County, New York.csv'\n",
      "BLS employment / wage info csv for year=2022 and county='Westchester County, New York': path='housing_data/2022.q1-q4 36119 Westchester County, New York.csv'\n",
      "Found 121 BLS employment / wage info csv files (expected 121).\n"
     ]
    }
   ],
   "source": [
    "# Download and/or extract BLS datasets from BLS site or file system (if pre-downloaded)\n",
    "bls_csv_dir = \"housing_data\"\n",
    "bls_csv_files = {}\n",
    "for year in years:\n",
    "    zip_fn = f\"{year}_qtrly_by_area.zip\"\n",
    "    zip_url = f\"https://data.bls.gov/cew/data/files/{year}/csv/{zip_fn}\"\n",
    "    zip_path = f\"{bls_csv_dir}/{zip_fn}\"\n",
    "\n",
    "    # Download the zip archive with the data for each year if it's not in the file system.\n",
    "    if not os.path.isfile(zip_path):\n",
    "        head_response = requests.head(zip_url)\n",
    "        file_size = float(head_response.headers['Content-Length'])\n",
    "        if file_size >= 2**30:\n",
    "            file_size, units = file_size / 2**30, 'GiB'\n",
    "        elif file_size >= 2**20:\n",
    "            file_size, units = file_size / 2**20, 'MiB'\n",
    "        elif file_size >= 2**10:\n",
    "            file_size, units = file_size / 2**10, 'kiB'\n",
    "        else:\n",
    "            units = 'B'\n",
    "        file_size = f\"{file_size:03.2f} {units}\"\n",
    "        \n",
    "        print(f\"Downloading {zip_url!r} to {zip_path!r} for year {year}.\")\n",
    "        print(f\"Expected size: {file_size}\")\n",
    "        get_response = requests.get(zip_url)\n",
    "        with open(zip_path, 'wb') as zip_file:\n",
    "            zip_file.write(get_response.content)\n",
    "\n",
    "    # Find the csv for each county within the archive\n",
    "    # print(f\"Listing files in {zip_path!r} zip archive.\")\n",
    "    with ZipFile(zip_path) as zip_archive:\n",
    "        files = zip_archive.namelist()\n",
    "        for file in files:\n",
    "            for county in counties:\n",
    "                if file.endswith(f'{county}.csv'):\n",
    "                    # print(f\"{file=!r}\")\n",
    "                    csv_key = (year, county)\n",
    "                    csv_fn = os.path.basename(file)\n",
    "                    csv_path = os.path.join(bls_csv_dir, csv_fn)\n",
    "                    # print(f\"{csv_fn=!r}\")\n",
    "                    bls_csv_files[csv_key] = csv_path\n",
    "                    zip_archive.extract(file, bls_csv_dir)\n",
    "                    shutil.move(f\"{bls_csv_dir}/{file}\", csv_path)\n",
    "\n",
    "if verbose:\n",
    "    for key, path in bls_csv_files.items():\n",
    "        year, county = key\n",
    "        print(f\"BLS employment / wage info csv for {year=} and {county=!r}: {path=!r}\")\n",
    "print(f\"Found {len(bls_csv_files)} BLS employment / wage info csv files (expected {len(counties) * len(years)}).\")"
   ]
  },
  {
   "cell_type": "code",
   "execution_count": 68,
   "id": "fb8d81c5-2154-48d8-9e86-5e56ae8deca3",
   "metadata": {},
   "outputs": [
    {
     "ename": "IsADirectoryError",
     "evalue": "[Errno 21] Is a directory: 'housing_data/2012.q1-q4 09001 Fairfield County, Connecticut.csv'",
     "output_type": "error",
     "traceback": [
      "\u001b[0;31m---------------------------------------------------------------------------\u001b[0m",
      "\u001b[0;31mIsADirectoryError\u001b[0m                         Traceback (most recent call last)",
      "Cell \u001b[0;32mIn[68], line 4\u001b[0m\n\u001b[1;32m      2\u001b[0m \u001b[38;5;28;01mfor\u001b[39;00m key, path \u001b[38;5;129;01min\u001b[39;00m bls_csv_files\u001b[38;5;241m.\u001b[39mitems():\n\u001b[1;32m      3\u001b[0m     year, county \u001b[38;5;241m=\u001b[39m key\n\u001b[0;32m----> 4\u001b[0m     df \u001b[38;5;241m=\u001b[39m pd\u001b[38;5;241m.\u001b[39mread_csv(Path(path))\n\u001b[1;32m      5\u001b[0m     df[\u001b[38;5;124m\"\u001b[39m\u001b[38;5;124mYear\u001b[39m\u001b[38;5;124m\"\u001b[39m] \u001b[38;5;241m=\u001b[39m year\n\u001b[1;32m      6\u001b[0m     df[\u001b[38;5;124m\"\u001b[39m\u001b[38;5;124mCounty\u001b[39m\u001b[38;5;124m\"\u001b[39m] \u001b[38;5;241m=\u001b[39m county\n",
      "File \u001b[0;32m/opt/anaconda3/envs/dev/lib/python3.12/site-packages/pandas/io/parsers/readers.py:1026\u001b[0m, in \u001b[0;36mread_csv\u001b[0;34m(filepath_or_buffer, sep, delimiter, header, names, index_col, usecols, dtype, engine, converters, true_values, false_values, skipinitialspace, skiprows, skipfooter, nrows, na_values, keep_default_na, na_filter, verbose, skip_blank_lines, parse_dates, infer_datetime_format, keep_date_col, date_parser, date_format, dayfirst, cache_dates, iterator, chunksize, compression, thousands, decimal, lineterminator, quotechar, quoting, doublequote, escapechar, comment, encoding, encoding_errors, dialect, on_bad_lines, delim_whitespace, low_memory, memory_map, float_precision, storage_options, dtype_backend)\u001b[0m\n\u001b[1;32m   1013\u001b[0m kwds_defaults \u001b[38;5;241m=\u001b[39m _refine_defaults_read(\n\u001b[1;32m   1014\u001b[0m     dialect,\n\u001b[1;32m   1015\u001b[0m     delimiter,\n\u001b[0;32m   (...)\u001b[0m\n\u001b[1;32m   1022\u001b[0m     dtype_backend\u001b[38;5;241m=\u001b[39mdtype_backend,\n\u001b[1;32m   1023\u001b[0m )\n\u001b[1;32m   1024\u001b[0m kwds\u001b[38;5;241m.\u001b[39mupdate(kwds_defaults)\n\u001b[0;32m-> 1026\u001b[0m \u001b[38;5;28;01mreturn\u001b[39;00m _read(filepath_or_buffer, kwds)\n",
      "File \u001b[0;32m/opt/anaconda3/envs/dev/lib/python3.12/site-packages/pandas/io/parsers/readers.py:620\u001b[0m, in \u001b[0;36m_read\u001b[0;34m(filepath_or_buffer, kwds)\u001b[0m\n\u001b[1;32m    617\u001b[0m _validate_names(kwds\u001b[38;5;241m.\u001b[39mget(\u001b[38;5;124m\"\u001b[39m\u001b[38;5;124mnames\u001b[39m\u001b[38;5;124m\"\u001b[39m, \u001b[38;5;28;01mNone\u001b[39;00m))\n\u001b[1;32m    619\u001b[0m \u001b[38;5;66;03m# Create the parser.\u001b[39;00m\n\u001b[0;32m--> 620\u001b[0m parser \u001b[38;5;241m=\u001b[39m TextFileReader(filepath_or_buffer, \u001b[38;5;241m*\u001b[39m\u001b[38;5;241m*\u001b[39mkwds)\n\u001b[1;32m    622\u001b[0m \u001b[38;5;28;01mif\u001b[39;00m chunksize \u001b[38;5;129;01mor\u001b[39;00m iterator:\n\u001b[1;32m    623\u001b[0m     \u001b[38;5;28;01mreturn\u001b[39;00m parser\n",
      "File \u001b[0;32m/opt/anaconda3/envs/dev/lib/python3.12/site-packages/pandas/io/parsers/readers.py:1620\u001b[0m, in \u001b[0;36mTextFileReader.__init__\u001b[0;34m(self, f, engine, **kwds)\u001b[0m\n\u001b[1;32m   1617\u001b[0m     \u001b[38;5;28mself\u001b[39m\u001b[38;5;241m.\u001b[39moptions[\u001b[38;5;124m\"\u001b[39m\u001b[38;5;124mhas_index_names\u001b[39m\u001b[38;5;124m\"\u001b[39m] \u001b[38;5;241m=\u001b[39m kwds[\u001b[38;5;124m\"\u001b[39m\u001b[38;5;124mhas_index_names\u001b[39m\u001b[38;5;124m\"\u001b[39m]\n\u001b[1;32m   1619\u001b[0m \u001b[38;5;28mself\u001b[39m\u001b[38;5;241m.\u001b[39mhandles: IOHandles \u001b[38;5;241m|\u001b[39m \u001b[38;5;28;01mNone\u001b[39;00m \u001b[38;5;241m=\u001b[39m \u001b[38;5;28;01mNone\u001b[39;00m\n\u001b[0;32m-> 1620\u001b[0m \u001b[38;5;28mself\u001b[39m\u001b[38;5;241m.\u001b[39m_engine \u001b[38;5;241m=\u001b[39m \u001b[38;5;28mself\u001b[39m\u001b[38;5;241m.\u001b[39m_make_engine(f, \u001b[38;5;28mself\u001b[39m\u001b[38;5;241m.\u001b[39mengine)\n",
      "File \u001b[0;32m/opt/anaconda3/envs/dev/lib/python3.12/site-packages/pandas/io/parsers/readers.py:1880\u001b[0m, in \u001b[0;36mTextFileReader._make_engine\u001b[0;34m(self, f, engine)\u001b[0m\n\u001b[1;32m   1878\u001b[0m     \u001b[38;5;28;01mif\u001b[39;00m \u001b[38;5;124m\"\u001b[39m\u001b[38;5;124mb\u001b[39m\u001b[38;5;124m\"\u001b[39m \u001b[38;5;129;01mnot\u001b[39;00m \u001b[38;5;129;01min\u001b[39;00m mode:\n\u001b[1;32m   1879\u001b[0m         mode \u001b[38;5;241m+\u001b[39m\u001b[38;5;241m=\u001b[39m \u001b[38;5;124m\"\u001b[39m\u001b[38;5;124mb\u001b[39m\u001b[38;5;124m\"\u001b[39m\n\u001b[0;32m-> 1880\u001b[0m \u001b[38;5;28mself\u001b[39m\u001b[38;5;241m.\u001b[39mhandles \u001b[38;5;241m=\u001b[39m get_handle(\n\u001b[1;32m   1881\u001b[0m     f,\n\u001b[1;32m   1882\u001b[0m     mode,\n\u001b[1;32m   1883\u001b[0m     encoding\u001b[38;5;241m=\u001b[39m\u001b[38;5;28mself\u001b[39m\u001b[38;5;241m.\u001b[39moptions\u001b[38;5;241m.\u001b[39mget(\u001b[38;5;124m\"\u001b[39m\u001b[38;5;124mencoding\u001b[39m\u001b[38;5;124m\"\u001b[39m, \u001b[38;5;28;01mNone\u001b[39;00m),\n\u001b[1;32m   1884\u001b[0m     compression\u001b[38;5;241m=\u001b[39m\u001b[38;5;28mself\u001b[39m\u001b[38;5;241m.\u001b[39moptions\u001b[38;5;241m.\u001b[39mget(\u001b[38;5;124m\"\u001b[39m\u001b[38;5;124mcompression\u001b[39m\u001b[38;5;124m\"\u001b[39m, \u001b[38;5;28;01mNone\u001b[39;00m),\n\u001b[1;32m   1885\u001b[0m     memory_map\u001b[38;5;241m=\u001b[39m\u001b[38;5;28mself\u001b[39m\u001b[38;5;241m.\u001b[39moptions\u001b[38;5;241m.\u001b[39mget(\u001b[38;5;124m\"\u001b[39m\u001b[38;5;124mmemory_map\u001b[39m\u001b[38;5;124m\"\u001b[39m, \u001b[38;5;28;01mFalse\u001b[39;00m),\n\u001b[1;32m   1886\u001b[0m     is_text\u001b[38;5;241m=\u001b[39mis_text,\n\u001b[1;32m   1887\u001b[0m     errors\u001b[38;5;241m=\u001b[39m\u001b[38;5;28mself\u001b[39m\u001b[38;5;241m.\u001b[39moptions\u001b[38;5;241m.\u001b[39mget(\u001b[38;5;124m\"\u001b[39m\u001b[38;5;124mencoding_errors\u001b[39m\u001b[38;5;124m\"\u001b[39m, \u001b[38;5;124m\"\u001b[39m\u001b[38;5;124mstrict\u001b[39m\u001b[38;5;124m\"\u001b[39m),\n\u001b[1;32m   1888\u001b[0m     storage_options\u001b[38;5;241m=\u001b[39m\u001b[38;5;28mself\u001b[39m\u001b[38;5;241m.\u001b[39moptions\u001b[38;5;241m.\u001b[39mget(\u001b[38;5;124m\"\u001b[39m\u001b[38;5;124mstorage_options\u001b[39m\u001b[38;5;124m\"\u001b[39m, \u001b[38;5;28;01mNone\u001b[39;00m),\n\u001b[1;32m   1889\u001b[0m )\n\u001b[1;32m   1890\u001b[0m \u001b[38;5;28;01massert\u001b[39;00m \u001b[38;5;28mself\u001b[39m\u001b[38;5;241m.\u001b[39mhandles \u001b[38;5;129;01mis\u001b[39;00m \u001b[38;5;129;01mnot\u001b[39;00m \u001b[38;5;28;01mNone\u001b[39;00m\n\u001b[1;32m   1891\u001b[0m f \u001b[38;5;241m=\u001b[39m \u001b[38;5;28mself\u001b[39m\u001b[38;5;241m.\u001b[39mhandles\u001b[38;5;241m.\u001b[39mhandle\n",
      "File \u001b[0;32m/opt/anaconda3/envs/dev/lib/python3.12/site-packages/pandas/io/common.py:873\u001b[0m, in \u001b[0;36mget_handle\u001b[0;34m(path_or_buf, mode, encoding, compression, memory_map, is_text, errors, storage_options)\u001b[0m\n\u001b[1;32m    868\u001b[0m \u001b[38;5;28;01melif\u001b[39;00m \u001b[38;5;28misinstance\u001b[39m(handle, \u001b[38;5;28mstr\u001b[39m):\n\u001b[1;32m    869\u001b[0m     \u001b[38;5;66;03m# Check whether the filename is to be opened in binary mode.\u001b[39;00m\n\u001b[1;32m    870\u001b[0m     \u001b[38;5;66;03m# Binary mode does not support 'encoding' and 'newline'.\u001b[39;00m\n\u001b[1;32m    871\u001b[0m     \u001b[38;5;28;01mif\u001b[39;00m ioargs\u001b[38;5;241m.\u001b[39mencoding \u001b[38;5;129;01mand\u001b[39;00m \u001b[38;5;124m\"\u001b[39m\u001b[38;5;124mb\u001b[39m\u001b[38;5;124m\"\u001b[39m \u001b[38;5;129;01mnot\u001b[39;00m \u001b[38;5;129;01min\u001b[39;00m ioargs\u001b[38;5;241m.\u001b[39mmode:\n\u001b[1;32m    872\u001b[0m         \u001b[38;5;66;03m# Encoding\u001b[39;00m\n\u001b[0;32m--> 873\u001b[0m         handle \u001b[38;5;241m=\u001b[39m \u001b[38;5;28mopen\u001b[39m(\n\u001b[1;32m    874\u001b[0m             handle,\n\u001b[1;32m    875\u001b[0m             ioargs\u001b[38;5;241m.\u001b[39mmode,\n\u001b[1;32m    876\u001b[0m             encoding\u001b[38;5;241m=\u001b[39mioargs\u001b[38;5;241m.\u001b[39mencoding,\n\u001b[1;32m    877\u001b[0m             errors\u001b[38;5;241m=\u001b[39merrors,\n\u001b[1;32m    878\u001b[0m             newline\u001b[38;5;241m=\u001b[39m\u001b[38;5;124m\"\u001b[39m\u001b[38;5;124m\"\u001b[39m,\n\u001b[1;32m    879\u001b[0m         )\n\u001b[1;32m    880\u001b[0m     \u001b[38;5;28;01melse\u001b[39;00m:\n\u001b[1;32m    881\u001b[0m         \u001b[38;5;66;03m# Binary mode\u001b[39;00m\n\u001b[1;32m    882\u001b[0m         handle \u001b[38;5;241m=\u001b[39m \u001b[38;5;28mopen\u001b[39m(handle, ioargs\u001b[38;5;241m.\u001b[39mmode)\n",
      "\u001b[0;31mIsADirectoryError\u001b[0m: [Errno 21] Is a directory: 'housing_data/2012.q1-q4 09001 Fairfield County, Connecticut.csv'"
     ]
    }
   ],
   "source": [
    "printed_example = False\n",
    "for key, path in bls_csv_files.items():\n",
    "    year, county = key\n",
    "    df = pd.read_csv(Path(path))\n",
    "    df[\"Year\"] = year\n",
    "    df[\"County\"] = county\n",
    "    if not printed_example:\n",
    "        print(df.head())\n",
    "        printed_example = True"
   ]
  },
  {
   "cell_type": "code",
   "execution_count": null,
   "id": "89e65806-c8de-4fe4-9a1d-2a85465b8ce2",
   "metadata": {},
   "outputs": [],
   "source": [
    "# Read the employment data and the nys industry results\n",
    "first_quarteremployment = pd.read_csv(first_quarteremployment_path)\n",
    "nys_industrycounty = pd.read_csv(nys_industrycounty_path)\n",
    "\n",
    "# Combine the data into a single DataFrame\n",
    "first_quarteremployment_nys_industrycounty = pd.merge(first_quarteremployment, nys_industrycounty,on=[\"County\"])\n",
    "\n",
    "# Display the data table for preview\n",
    "first_quarteremployment_nys_industrycounty.head()"
   ]
  },
  {
   "cell_type": "code",
   "execution_count": 2,
   "id": "a4f337b7-d1fc-4289-a4ef-0287d5f0368f",
   "metadata": {},
   "outputs": [
    {
     "ename": "NameError",
     "evalue": "name 'os' is not defined",
     "output_type": "error",
     "traceback": [
      "\u001b[0;31m---------------------------------------------------------------------------\u001b[0m",
      "\u001b[0;31mNameError\u001b[0m                                 Traceback (most recent call last)",
      "Cell \u001b[0;32mIn[2], line 1\u001b[0m\n\u001b[0;32m----> 1\u001b[0m pwd \u001b[38;5;241m=\u001b[39m os\u001b[38;5;241m.\u001b[39mgetcwd()  \u001b[38;5;66;03m# Get current working directory\u001b[39;00m\n\u001b[1;32m      2\u001b[0m files \u001b[38;5;241m=\u001b[39m os\u001b[38;5;241m.\u001b[39mlistdir()  \u001b[38;5;66;03m# Get files in current working directory\u001b[39;00m\n\u001b[1;32m      3\u001b[0m \u001b[38;5;28mprint\u001b[39m(\u001b[38;5;124mf\u001b[39m\u001b[38;5;124m\"\u001b[39m\u001b[38;5;132;01m{\u001b[39;00mpwd\u001b[38;5;132;01m=!r}\u001b[39;00m\u001b[38;5;124m\"\u001b[39m)\n",
      "\u001b[0;31mNameError\u001b[0m: name 'os' is not defined"
     ]
    }
   ],
   "source": [
    "pwd = os.getcwd()  # Get current working directory\n",
    "files = os.listdir()  # Get files in current working directory\n",
    "print(f\"{pwd=!r}\")\n",
    "for file in files:\n",
    "    print(f\"{file=!r}\")"
   ]
  },
  {
   "cell_type": "code",
   "execution_count": null,
   "id": "f2ac245e-c5fd-4f62-a758-7fe0231a4a2e",
   "metadata": {},
   "outputs": [],
   "source": [
    "#import requests\n",
    "#import json\n",
    "#urllib.request\n",
    "\n",
    "#urllib"
   ]
  },
  {
   "cell_type": "code",
   "execution_count": null,
   "id": "87797239-88a2-49db-b07b-c504e2eb551a",
   "metadata": {},
   "outputs": [],
   "source": [
    "\n",
    "#url = \"https://api.bls.gov/publicAPI/v2/timeseries/data/ \""
   ]
  },
  {
   "cell_type": "code",
   "execution_count": null,
   "id": "522e0fc5-10fa-49cf-8f7b-d1850a8d179c",
   "metadata": {},
   "outputs": [],
   "source": [
    "#response = requests.post(url).json()\n",
    "#response_json = response.json()\n",
    "#print(json.dumps(response, indent=4, sorts_keys=True))"
   ]
  },
  {
   "cell_type": "code",
   "execution_count": 3,
   "id": "d4140435-7e05-41ea-ab43-da5f769aacfd",
   "metadata": {},
   "outputs": [],
   "source": [
    "#Reference NYC Housing Data\n",
    "\n",
    "#Kaggle Datasets\n",
    "#https://www.kaggle.com/code/shaqiavelli/nyc-geospatial-analysis\n",
    "#https://www.kaggle.com/code/ashokmevada/house-price\n",
    "\n",
    "#NYC Planning #????\n",
    "#https://www.nyc.gov/site/planning/data-maps/open-data/dwn-housing-database.page#housingdevelopmentproject\n",
    "\n",
    "#NYC.GOV Annual Housing Sales 2012-2022\n",
    "#https://www.nyc.gov/site/finance/property/property-annualized-sales-update.page\n",
    "\n",
    "#Reference Bureau of Labor Statistics (bls) API_Key Multiple Series and csv files\n",
    "\n",
    "##bls.gov: https://www.bls.gov/developers/api_signature_v2.htm (API_Key)\n",
    "##https://www.bls.gov/cew/downloadable-data-files.htm (csv files)\n",
    "##https://www.bls.gov/cew/additional-resources/open-data/sample-code.htm (sample python code)"
   ]
  },
  {
   "cell_type": "code",
   "execution_count": null,
   "id": "bbd422b7-3056-4c35-83d9-390841bf0beb",
   "metadata": {},
   "outputs": [],
   "source": [
    "# Study data files\n",
    "#nasdaqdatalink_apidata_path = \"data/Mouse_metadata.csv\"\n",
    "#study_results_path = \"data/Study_results.csv\"\n",
    "\n",
    "# Read the mouse data and the study results\n",
    "#nasdaqdatalink_apidata = pd.read_csv(mouse_metadata_path)\n",
    "#study_results = pd.read_csv(study_results_path)\n",
    "\n",
    "# Combine the data into a single DataFrame\n",
    "#mouse_study_results = pd.merge(mouse_metadata, study_results,on=[\"Mouse ID\"])\n",
    "\n",
    "# Display the data table for preview\n",
    "#mouse_study_results.head()"
   ]
  },
  {
   "cell_type": "code",
   "execution_count": 16,
   "id": "2cb96623-290a-4685-99de-aacf4500420f",
   "metadata": {},
   "outputs": [
    {
     "name": "stdout",
     "output_type": "stream",
     "text": [
      "default: str version: A(name=Carlos,none=None,pi=3.1415926,potato=tomato)\n",
      "with_bang_s: str version: A(name=Carlos,none=None,pi=3.1415926,potato=tomato)\n",
      "with_bang_r: repr version: A(name='Carlos',none=None,pi=3.1415926,potato='tomato')\n"
     ]
    }
   ],
   "source": [
    "d = {\n",
    "    'potato': 'tomato',\n",
    "    'pi': 3.14159,\n",
    "    'name': 'Carlos',\n",
    "}\n",
    "d2 = dict(\n",
    "    potato='tomato',\n",
    "    pi=3.14159,\n",
    "    name='Carlos',\n",
    ")\n",
    "class A:\n",
    "    def __init__(self, , **kwargs):\n",
    "        for param, arg in kwargs.items():\n",
    "            setattr(self, param, arg)\n",
    "    def __str__(self):\n",
    "        return f\"str version: {self.__class__.__name__}\" \\\n",
    "            f\"({\",\".join(f\"{param}={arg}\" for param, arg in sorted(self.__dict__.items()))})\"\n",
    "    def __repr__(self):\n",
    "        return f\"repr version: {self.__class__.__name__}\" \\\n",
    "            f\"({','.join(f'{param}={arg!r}' for param, arg in sorted(self.__dict__.items()))})\"\n",
    "\n",
    "a = A(potato='tomato', pi=3.1415926, name='Carlos', none=None)\n",
    "print(f\"default: {a}\")\n",
    "print(f\"with_bang_s: {a!s}\")\n",
    "print(f\"with_bang_r: {a!r}\")"
   ]
  },
  {
   "cell_type": "code",
   "execution_count": 27,
   "id": "2e604f8a-1e2c-4f8a-90ab-47de42cb76bc",
   "metadata": {},
   "outputs": [
    {
     "data": {
      "text/plain": [
       "'tomato'"
      ]
     },
     "execution_count": 27,
     "metadata": {},
     "output_type": "execute_result"
    }
   ],
   "source": [
    "# `a.potato` is quivalent to `getattr(a, 'potato')`\n"
   ]
  },
  {
   "cell_type": "code",
   "execution_count": 20,
   "id": "1e6434f1-fce7-4873-952d-e20deb2e619d",
   "metadata": {},
   "outputs": [
    {
     "data": {
      "text/plain": [
       "\"'a'\""
      ]
     },
     "execution_count": 20,
     "metadata": {},
     "output_type": "execute_result"
    }
   ],
   "source": [
    "repr('a')"
   ]
  },
  {
   "cell_type": "code",
   "execution_count": 21,
   "id": "5f232114-8d7e-4689-b1cd-5edd6fddec3a",
   "metadata": {},
   "outputs": [
    {
     "data": {
      "text/plain": [
       "repr version: A(name='Carlos',none=None,pi=3.1415926,potato='tomato')"
      ]
     },
     "execution_count": 21,
     "metadata": {},
     "output_type": "execute_result"
    }
   ],
   "source": [
    "A(name='Carlos',none=None,pi=3.1415926,potato='tomato')"
   ]
  },
  {
   "cell_type": "code",
   "execution_count": 22,
   "id": "1d5a5b3a-a829-482e-9803-fa061538b8e1",
   "metadata": {},
   "outputs": [],
   "source": [
    "def mysum(*values):\n",
    "    s = 0\n",
    "    for value in values:\n",
    "        s += value\n",
    "    return s"
   ]
  },
  {
   "cell_type": "code",
   "execution_count": 59,
   "id": "80e91314-bde5-4209-9430-7fa0d8a92825",
   "metadata": {},
   "outputs": [
    {
     "data": {
      "text/plain": [
       "121"
      ]
     },
     "execution_count": 59,
     "metadata": {},
     "output_type": "execute_result"
    }
   ],
   "source": [
    "len(counties) *len(years)"
   ]
  },
  {
   "cell_type": "code",
   "execution_count": null,
   "id": "177b1b65-1d23-413f-816f-c3c5a56cac98",
   "metadata": {},
   "outputs": [],
   "source": []
  }
 ],
 "metadata": {
  "kernelspec": {
   "display_name": "Python 3 (ipykernel)",
   "language": "python",
   "name": "python3"
  },
  "language_info": {
   "codemirror_mode": {
    "name": "ipython",
    "version": 3
   },
   "file_extension": ".py",
   "mimetype": "text/x-python",
   "name": "python",
   "nbconvert_exporter": "python",
   "pygments_lexer": "ipython3",
   "version": "3.12.4"
  }
 },
 "nbformat": 4,
 "nbformat_minor": 5
}
