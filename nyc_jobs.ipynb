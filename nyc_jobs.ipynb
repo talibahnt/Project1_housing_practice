{
 "cells": [
  {
   "cell_type": "code",
   "execution_count": 17,
   "id": "51df94b1-4668-4a43-a142-279f578eacd9",
   "metadata": {},
   "outputs": [],
   "source": [
    "# !pip install squarify\n",
    "# !pip install bubbly"
   ]
  },
  {
   "cell_type": "code",
   "execution_count": 18,
   "id": "565c31f8-595c-4503-a5d8-d07f5afdea7e",
   "metadata": {},
   "outputs": [],
   "source": [
    "# Dependencies and Setup\n",
    "import os\n",
    "import shutil\n",
    "from zipfile import ZipFile\n",
    "\n",
    "import matplotlib.pyplot as plt\n",
    "import matplotlib\n",
    "\n",
    "import pandas as pd\n",
    "import requests\n",
    "#import seaborn as sns\n",
    "import scipy.stats as st\n",
    "from scipy.stats import linregress\n",
    "from pathlib import Path\n"
   ]
  },
  {
   "cell_type": "code",
   "execution_count": 19,
   "id": "7dab89aa-87ee-4edf-b15a-a890b284262a",
   "metadata": {},
   "outputs": [],
   "source": [
    "# Notebook configuration\n",
    "# verbose = True  # Only set this to true for debugging\n",
    "verbose = False"
   ]
  },
  {
   "cell_type": "code",
   "execution_count": 20,
   "id": "bf24a3b8-5d0d-4567-a283-7cebcf508221",
   "metadata": {},
   "outputs": [],
   "source": [
    "# The BLS files have all the county employment / wage info for our selected years and\n",
    "# counties.\n",
    "\n",
    "# Do not need anymore, keeping in case we missed something.\n",
    "# nys_industycounty_path = \"housing_data/NYS_Industry_by_County.csv\"\n",
    "\n",
    "# Study parameters\n",
    "\n",
    "# Years 2012 - 2022\n",
    "years = [2012, 2013, 2014, 2015, 2016, 2017, 2018,  # Before pandemic lockdown\n",
    "         2019, 2020, 2021, 2022]  # During and after pandemic lockdown\n",
    "\n",
    "# All NYC Boroughs and geographically adjacent counties\n",
    "counties = [\n",
    "    # NYC Boroughs\n",
    "    \"Bronx County, New York\",\n",
    "    \"Kings County, New York\",  # Brooklyn\n",
    "    \"New York County, New York\",  # Manhattan\n",
    "    \"Queens County, New York\",\n",
    "    \"Richmond County, New York\",  # Staten Island\n",
    "\n",
    "    # Counties adjacent to NYC Boroughs\n",
    "    \"Bergen County, New Jersey\",\n",
    "    \"Nassau County, New York\",\n",
    "    \"Hudson County, New Jersey\",\n",
    "    \"Westchester County, New York\",\n",
    "    \"Rockland County, New York\",\n",
    "    \"Fairfield County, Connecticut\",\n",
    "]"
   ]
  },
  {
   "cell_type": "code",
   "execution_count": 21,
   "id": "f41b5e0d-0f28-4819-9414-f92664b6ae17",
   "metadata": {},
   "outputs": [
    {
     "name": "stdout",
     "output_type": "stream",
     "text": [
      "Found 121 BLS employment / wage info csv files (expected 121).\n"
     ]
    }
   ],
   "source": [
    "# Download and/or extract BLS datasets from BLS site or file system (if pre-downloaded)\n",
    "bls_csv_dir = \"housing_data\"\n",
    "bls_csv_files = {}\n",
    "for year in years:\n",
    "    zip_fn = f\"{year}_qtrly_by_area.zip\"\n",
    "    zip_url = f\"https://data.bls.gov/cew/data/files/{year}/csv/{zip_fn}\"\n",
    "    zip_path = f\"{bls_csv_dir}/{zip_fn}\"\n",
    "\n",
    "    # Download the zip archive with the data for each year if it's not in the file system.\n",
    "    if not os.path.isfile(zip_path):\n",
    "        head_response = requests.head(zip_url)\n",
    "        file_size = float(head_response.headers['Content-Length'])\n",
    "        if file_size >= 2**30:\n",
    "            file_size, units = file_size / 2**30, 'GiB'\n",
    "        elif file_size >= 2**20:\n",
    "            file_size, units = file_size / 2**20, 'MiB'\n",
    "        elif file_size >= 2**10:\n",
    "            file_size, units = file_size / 2**10, 'kiB'\n",
    "        else:\n",
    "            units = 'B'\n",
    "        file_size = f\"{file_size:03.2f} {units}\"\n",
    "        \n",
    "        print(f\"Downloading {zip_url!r} to {zip_path!r} for year {year}.\")\n",
    "        print(f\"Expected size: {file_size}\")\n",
    "        get_response = requests.get(zip_url)\n",
    "        with open(zip_path, 'wb') as zip_file:\n",
    "            zip_file.write(get_response.content)\n",
    "\n",
    "    # Find the csv for each county within the archive\n",
    "    # print(f\"Listing files in {zip_path!r} zip archive.\")\n",
    "    with ZipFile(zip_path) as zip_archive:\n",
    "        files = zip_archive.namelist()\n",
    "        for file in files:\n",
    "            for county in counties:\n",
    "                if file.endswith(f'{county}.csv'):\n",
    "                    # print(f\"{file=!r}\")\n",
    "                    csv_key = (year, county)\n",
    "                    csv_dir, csv_fn = os.path.split(file)\n",
    "                    csv_path = os.path.join(bls_csv_dir, csv_fn)\n",
    "                    # print(f\"{csv_fn=!r}\")\n",
    "                    bls_csv_files[csv_key] = csv_path\n",
    "                    zip_archive.extract(file, bls_csv_dir)\n",
    "                    shutil.move(f\"{bls_csv_dir}/{file}\", csv_path)\n",
    "                    shutil.rmtree(f\"{bls_csv_dir}/{csv_dir}\")\n",
    "if verbose:\n",
    "    for key, path in bls_csv_files.items():\n",
    "        year, county = key\n",
    "        print(f\"BLS employment / wage info csv for {year=} and {county=!r}: {path=!r}\")\n",
    "print(f\"Found {len(bls_csv_files)} BLS employment / wage info csv files (expected {len(counties) * len(years)}).\")"
   ]
  },
  {
   "cell_type": "code",
   "execution_count": 14,
   "id": "b540e066-03e2-4f16-8eef-506de609cd5a",
   "metadata": {},
   "outputs": [
    {
     "data": {
      "text/plain": [
       "['2012.q1-q4 36005 Bronx County, New York.csv',\n",
       " '2015.q1-q4 36047 Kings County, New York.csv',\n",
       " '2022.q1-q4 36087 Rockland County, New York.csv',\n",
       " '2020.q1-q4 36047 Kings County, New York.csv',\n",
       " '2016.q1-q4 36085 Richmond County, New York.csv',\n",
       " '2019.q1-q4 36119 Westchester County, New York.csv',\n",
       " '2017.q1-q4 36085 Richmond County, New York.csv',\n",
       " '2014.q1-q4 36119 Westchester County, New York.csv',\n",
       " '2016.q1-q4 36047 Kings County, New York.csv',\n",
       " '2018.q1-q4 36061 New York County, New York.csv',\n",
       " '2022.q1-q4 36005 Bronx County, New York.csv',\n",
       " '2020.q1-q4 34003 Bergen County, New Jersey.csv',\n",
       " '.DS_Store',\n",
       " '2021.q1-q4 36061 New York County, New York.csv',\n",
       " '2017.q1-q4 34017 Hudson County, New Jersey.csv',\n",
       " '2019.q1-q4 34003 Bergen County, New Jersey.csv',\n",
       " '2017.q1-q4 36005 Bronx County, New York.csv',\n",
       " '2013.q1-q4 36081 Queens County, New York.csv',\n",
       " '2012.q1-q4 36081 Queens County, New York.csv',\n",
       " '2020.q1-q4 36061 New York County, New York.csv',\n",
       " '2013.q1-q4 36047 Kings County, New York.csv',\n",
       " '2016.q1-q4 34017 Hudson County, New Jersey.csv',\n",
       " '2018.q1-q4 34003 Bergen County, New Jersey.csv',\n",
       " '2014.q1-q4 36005 Bronx County, New York.csv',\n",
       " '2021.q1-q4 36005 Bronx County, New York.csv',\n",
       " '2019.q1-q4 36061 New York County, New York.csv',\n",
       " '2021.q1-q4 34003 Bergen County, New Jersey.csv',\n",
       " '2014.q1-q4 36087 Rockland County, New York.csv',\n",
       " '2019.q1-q4 36085 Richmond County, New York.csv',\n",
       " '2018.q1-q4 36081 Queens County, New York.csv',\n",
       " '2020.q1-q4 36085 Richmond County, New York.csv',\n",
       " '2016.q1-q4 36081 Queens County, New York.csv',\n",
       " '2021.q1-q4 36085 Richmond County, New York.csv',\n",
       " '2021.q1-q4 36119 Westchester County, New York.csv',\n",
       " '2019.q1-q4 36081 Queens County, New York.csv',\n",
       " '2017.q1-q4 36081 Queens County, New York.csv',\n",
       " '2013.q1-q4 09001 Fairfield County, Connecticut.csv',\n",
       " '2022.q1-q4 36081 Queens County, New York.csv',\n",
       " '2019_qtrly_by_area.zip',\n",
       " '2015.q1-q4 36087 Rockland County, New York.csv',\n",
       " '2013.q1-q4 36119 Westchester County, New York.csv',\n",
       " '2018.q1-q4 36085 Richmond County, New York.csv',\n",
       " '2018.q1-q4 36005 Bronx County, New York.csv',\n",
       " '2016.q1-q4 34003 Bergen County, New Jersey.csv',\n",
       " '2018.q1-q4 34017 Hudson County, New Jersey.csv',\n",
       " '2020.q1-q4 36081 Queens County, New York.csv',\n",
       " '2015.q1-q4 36081 Queens County, New York.csv',\n",
       " '2013.q1-q4 36087 Rockland County, New York.csv',\n",
       " '2019.q1-q4 36047 Kings County, New York.csv',\n",
       " '2021.q1-q4 34017 Hudson County, New Jersey.csv',\n",
       " '2017.q1-q4 36061 New York County, New York.csv',\n",
       " '2012.q1-q4 09001 Fairfield County, Connecticut.csv',\n",
       " '2012.q1-q4 36087 Rockland County, New York.csv',\n",
       " '2020.q1-q4 34017 Hudson County, New Jersey.csv',\n",
       " '2014.q1-q4 36081 Queens County, New York.csv',\n",
       " '2018_qtrly_by_area.zip',\n",
       " '2021.q1-q4 36081 Queens County, New York.csv',\n",
       " '2016.q1-q4 36061 New York County, New York.csv',\n",
       " '2017.q1-q4 34003 Bergen County, New Jersey.csv',\n",
       " '2016.q1-q4 36119 Westchester County, New York.csv',\n",
       " '2019.q1-q4 34017 Hudson County, New Jersey.csv',\n",
       " '2012.q1-q4 36059 Nassau County, New York.csv',\n",
       " '2012.q1-q4 34017 Hudson County, New Jersey.csv',\n",
       " '2019.q1-q4 09001 Fairfield County, Connecticut.csv',\n",
       " '2020.q1-q4 36087 Rockland County, New York.csv',\n",
       " 'bls-q1-census-employment-and-wages.csv.bak',\n",
       " '2015.q1-q4 09001 Fairfield County, Connecticut.csv',\n",
       " '2014.q1-q4 36085 Richmond County, New York.csv',\n",
       " '2019.q1-q4 36087 Rockland County, New York.csv',\n",
       " '2021.q1-q4 09001 Fairfield County, Connecticut.csv',\n",
       " '2014_qtrly_by_area.zip',\n",
       " '2015.q1-q4 36085 Richmond County, New York.csv',\n",
       " '2018.q1-q4 36087 Rockland County, New York.csv',\n",
       " '2017.q1-q4 36119 Westchester County, New York.csv',\n",
       " '2020_qtrly_by_area.zip',\n",
       " '2013.q1-q4 34017 Hudson County, New Jersey.csv',\n",
       " '2018.q1-q4 36047 Kings County, New York.csv',\n",
       " '2013.q1-q4 36059 Nassau County, New York.csv',\n",
       " '2021.q1-q4 36087 Rockland County, New York.csv',\n",
       " '2022.q1-q4 34003 Bergen County, New Jersey.csv',\n",
       " '2018.q1-q4 09001 Fairfield County, Connecticut.csv',\n",
       " '2013.q1-q4 36085 Richmond County, New York.csv',\n",
       " '2015.q1-q4 34017 Hudson County, New Jersey.csv',\n",
       " '2019.q1-q4 36005 Bronx County, New York.csv',\n",
       " '2014.q1-q4 09001 Fairfield County, Connecticut.csv',\n",
       " '2022.q1-q4 36061 New York County, New York.csv',\n",
       " '2015_qtrly_by_area.zip',\n",
       " '2012.q1-q4 36119 Westchester County, New York.csv',\n",
       " '2014.q1-q4 34017 Hudson County, New Jersey.csv',\n",
       " '2020.q1-q4 09001 Fairfield County, Connecticut.csv',\n",
       " '2020.q1-q4 36119 Westchester County, New York.csv',\n",
       " '2021_qtrly_by_area.zip',\n",
       " '2012.q1-q4 36085 Richmond County, New York.csv',\n",
       " '2016.q1-q4 36087 Rockland County, New York.csv',\n",
       " '2017.q1-q4 09001 Fairfield County, Connecticut.csv',\n",
       " '2015.q1-q4 36005 Bronx County, New York.csv',\n",
       " '.ipynb_checkpoints',\n",
       " '2013_qtrly_by_area.zip',\n",
       " '2012.q1-q4 36061 New York County, New York.csv',\n",
       " '2021.q1-q4 36059 Nassau County, New York.csv',\n",
       " '2014.q1-q4 36059 Nassau County, New York.csv',\n",
       " '2012.q1-q4 36047 Kings County, New York.csv',\n",
       " '2022.q1-q4 36085 Richmond County, New York.csv',\n",
       " '2020.q1-q4 36005 Bronx County, New York.csv',\n",
       " '2013.q1-q4 34003 Bergen County, New Jersey.csv',\n",
       " '2016_qtrly_by_area.zip',\n",
       " '2012.q1-q4 34003 Bergen County, New Jersey.csv',\n",
       " '2017.q1-q4 36087 Rockland County, New York.csv',\n",
       " '2015.q1-q4 36059 Nassau County, New York.csv',\n",
       " '2016.q1-q4 36005 Bronx County, New York.csv',\n",
       " '2020.q1-q4 36059 Nassau County, New York.csv',\n",
       " '2022_qtrly_by_area.zip',\n",
       " '2013.q1-q4 36061 New York County, New York.csv',\n",
       " '2022.q1-q4 36119 Westchester County, New York.csv',\n",
       " '2012_qtrly_by_area.zip',\n",
       " '2019.q1-q4 36059 Nassau County, New York.csv',\n",
       " '2022.q1-q4 36047 Kings County, New York.csv',\n",
       " '2014.q1-q4 34003 Bergen County, New Jersey.csv',\n",
       " '2016.q1-q4 09001 Fairfield County, Connecticut.csv',\n",
       " '2022.q1-q4 36059 Nassau County, New York.csv',\n",
       " '2017.q1-q4 36059 Nassau County, New York.csv',\n",
       " 'allhlcn12.csv.bak',\n",
       " '2017.q1-q4 36047 Kings County, New York.csv',\n",
       " '2015.q1-q4 36061 New York County, New York.csv',\n",
       " '2017_qtrly_by_area.zip',\n",
       " '2015.q1-q4 36119 Westchester County, New York.csv',\n",
       " '2014.q1-q4 36047 Kings County, New York.csv',\n",
       " '2022.q1-q4 34017 Hudson County, New Jersey.csv',\n",
       " '2013.q1-q4 36005 Bronx County, New York.csv',\n",
       " '2014.q1-q4 36061 New York County, New York.csv',\n",
       " '2018.q1-q4 36059 Nassau County, New York.csv',\n",
       " '2016.q1-q4 36059 Nassau County, New York.csv',\n",
       " '2015.q1-q4 34003 Bergen County, New Jersey.csv',\n",
       " '2018.q1-q4 36119 Westchester County, New York.csv',\n",
       " '2022.q1-q4 09001 Fairfield County, Connecticut.csv',\n",
       " '2021.q1-q4 36047 Kings County, New York.csv']"
      ]
     },
     "execution_count": 14,
     "metadata": {},
     "output_type": "execute_result"
    }
   ],
   "source": [
    "#Make sure that files are unzipped from Finder (stores files). Remove the \".zip\" from the file name. Then it should recongize and read the file.\n",
    "os.listdir(bls_csv_dir)"
   ]
  },
  {
   "cell_type": "code",
   "execution_count": 22,
   "id": "22aecf3d-b214-47b6-b3a5-bc24697e2f75",
   "metadata": {},
   "outputs": [],
   "source": [
    "printed_example = False\n",
    "dfs = []  # Intentionallt plural\n",
    "for key, path in bls_csv_files.items():\n",
    "    year, county = key\n",
    "    df = pd.read_csv(Path(path))  # Intentionally singular\n",
    "    df[\"Year\"] = year\n",
    "    df[\"County\"] = county\n",
    "    # if not printed_example:\n",
    "    #     print(df.head())\n",
    "    #     printed_example = True\n",
    "    dfs.append(df)"
   ]
  },
  {
   "cell_type": "code",
   "execution_count": 26,
   "id": "70f75008-3086-4b36-beb1-23c7e8c0a34c",
   "metadata": {},
   "outputs": [
    {
     "ename": "ValueError",
     "evalue": "cannot reindex on an axis with duplicate labels",
     "output_type": "error",
     "traceback": [
      "\u001b[0;31m---------------------------------------------------------------------------\u001b[0m",
      "\u001b[0;31mValueError\u001b[0m                                Traceback (most recent call last)",
      "Cell \u001b[0;32mIn[26], line 62\u001b[0m\n\u001b[1;32m      1\u001b[0m merged_df \u001b[38;5;241m=\u001b[39m pd\u001b[38;5;241m.\u001b[39mconcat(dfs)[[\u001b[38;5;124m\"\u001b[39m\u001b[38;5;124mYear\u001b[39m\u001b[38;5;124m\"\u001b[39m, \u001b[38;5;124m\"\u001b[39m\u001b[38;5;124mCounty\u001b[39m\u001b[38;5;124m\"\u001b[39m, \u001b[38;5;124m\"\u001b[39m\u001b[38;5;124mqtr\u001b[39m\u001b[38;5;124m\"\u001b[39m,\u001b[38;5;124m\"\u001b[39m\u001b[38;5;124magglvl_code\u001b[39m\u001b[38;5;124m\"\u001b[39m, \u001b[38;5;124m\"\u001b[39m\u001b[38;5;124magglvl_title\u001b[39m\u001b[38;5;124m\"\u001b[39m,\u001b[38;5;124m\"\u001b[39m\u001b[38;5;124marea_fips\u001b[39m\u001b[38;5;124m\"\u001b[39m,\u001b[38;5;124m\"\u001b[39m\u001b[38;5;124marea_title\u001b[39m\u001b[38;5;124m\"\u001b[39m,\n\u001b[1;32m      2\u001b[0m                             \u001b[38;5;124m\"\u001b[39m\u001b[38;5;124mavg_wkly_wage\u001b[39m\u001b[38;5;124m\"\u001b[39m,\u001b[38;5;124m\"\u001b[39m\u001b[38;5;124mindustry_code\u001b[39m\u001b[38;5;124m\"\u001b[39m,\u001b[38;5;124m\"\u001b[39m\u001b[38;5;124mindustry_title\u001b[39m\u001b[38;5;124m\"\u001b[39m,\u001b[38;5;124m\"\u001b[39m\u001b[38;5;124mlq_avg_wkly_wage\u001b[39m\u001b[38;5;124m\"\u001b[39m,\u001b[38;5;124m\"\u001b[39m\u001b[38;5;124mlq_month1_emplvl\u001b[39m\u001b[38;5;124m\"\u001b[39m,\n\u001b[1;32m      3\u001b[0m                             \u001b[38;5;124m\"\u001b[39m\u001b[38;5;124mlq_month2_emplvl\u001b[39m\u001b[38;5;124m\"\u001b[39m,\u001b[38;5;124m\"\u001b[39m\u001b[38;5;124mlq_month3_emplvl\u001b[39m\u001b[38;5;124m\"\u001b[39m,\u001b[38;5;124m\"\u001b[39m\u001b[38;5;124mlq_qtrly_contributions\u001b[39m\u001b[38;5;124m\"\u001b[39m,\u001b[38;5;124m\"\u001b[39m\u001b[38;5;124mlq_qtrly_estabs_count\u001b[39m\u001b[38;5;124m\"\u001b[39m,\n\u001b[0;32m   (...)\u001b[0m\n\u001b[1;32m     11\u001b[0m                             \u001b[38;5;124m\"\u001b[39m\u001b[38;5;124mtotal_qtrly_wages\u001b[39m\u001b[38;5;124m\"\u001b[39m,\u001b[38;5;124m\"\u001b[39m\u001b[38;5;124myear\u001b[39m\u001b[38;5;124m\"\u001b[39m,\n\u001b[1;32m     12\u001b[0m                            ]]  \u001b[38;5;66;03m# Select which olumns to keep\u001b[39;00m\n\u001b[1;32m     13\u001b[0m merged_df \u001b[38;5;241m=\u001b[39m merged_df\u001b[38;5;241m.\u001b[39mrename(columns\u001b[38;5;241m=\u001b[39m{  \u001b[38;5;66;03m# Rename columns for readability and brevity\u001b[39;00m\n\u001b[1;32m     14\u001b[0m     \u001b[38;5;124m\"\u001b[39m\u001b[38;5;124mCounty\u001b[39m\u001b[38;5;124m\"\u001b[39m:\u001b[38;5;124m\"\u001b[39m\u001b[38;5;124mCounty\u001b[39m\u001b[38;5;124m\"\u001b[39m,\n\u001b[1;32m     15\u001b[0m     \u001b[38;5;124m\"\u001b[39m\u001b[38;5;124mYear\u001b[39m\u001b[38;5;124m\"\u001b[39m:\u001b[38;5;124m\"\u001b[39m\u001b[38;5;124mYear\u001b[39m\u001b[38;5;124m\"\u001b[39m,\n\u001b[0;32m   (...)\u001b[0m\n\u001b[1;32m     60\u001b[0m     \u001b[38;5;124m\"\u001b[39m\u001b[38;5;124myear\u001b[39m\u001b[38;5;124m\"\u001b[39m:\u001b[38;5;124m\"\u001b[39m\u001b[38;5;124myear\u001b[39m\u001b[38;5;124m\"\u001b[39m\n\u001b[1;32m     61\u001b[0m })\n\u001b[0;32m---> 62\u001b[0m clean_df \u001b[38;5;241m=\u001b[39m merged_df[merged_df[\u001b[38;5;124m\"\u001b[39m\u001b[38;5;124mQuarter\u001b[39m\u001b[38;5;124m\"\u001b[39m]\u001b[38;5;241m.\u001b[39misin([\u001b[38;5;241m1\u001b[39m,\u001b[38;5;241m2\u001b[39m,\u001b[38;5;241m3\u001b[39m,\u001b[38;5;241m4\u001b[39m])]  \u001b[38;5;66;03m# Example filter; replace as needed.\u001b[39;00m\n\u001b[1;32m     63\u001b[0m clean_df\u001b[38;5;241m.\u001b[39mhead(\u001b[38;5;241m5\u001b[39m)\n",
      "File \u001b[0;32m/opt/anaconda3/lib/python3.12/site-packages/pandas/core/frame.py:4089\u001b[0m, in \u001b[0;36mDataFrame.__getitem__\u001b[0;34m(self, key)\u001b[0m\n\u001b[1;32m   4087\u001b[0m \u001b[38;5;66;03m# Do we have a (boolean) DataFrame?\u001b[39;00m\n\u001b[1;32m   4088\u001b[0m \u001b[38;5;28;01mif\u001b[39;00m \u001b[38;5;28misinstance\u001b[39m(key, DataFrame):\n\u001b[0;32m-> 4089\u001b[0m     \u001b[38;5;28;01mreturn\u001b[39;00m \u001b[38;5;28mself\u001b[39m\u001b[38;5;241m.\u001b[39mwhere(key)\n\u001b[1;32m   4091\u001b[0m \u001b[38;5;66;03m# Do we have a (boolean) 1d indexer?\u001b[39;00m\n\u001b[1;32m   4092\u001b[0m \u001b[38;5;28;01mif\u001b[39;00m com\u001b[38;5;241m.\u001b[39mis_bool_indexer(key):\n",
      "File \u001b[0;32m/opt/anaconda3/lib/python3.12/site-packages/pandas/core/generic.py:10984\u001b[0m, in \u001b[0;36mNDFrame.where\u001b[0;34m(self, cond, other, inplace, axis, level)\u001b[0m\n\u001b[1;32m  10977\u001b[0m             warnings\u001b[38;5;241m.\u001b[39mwarn(\n\u001b[1;32m  10978\u001b[0m                 _chained_assignment_warning_method_msg,\n\u001b[1;32m  10979\u001b[0m                 \u001b[38;5;167;01mFutureWarning\u001b[39;00m,\n\u001b[1;32m  10980\u001b[0m                 stacklevel\u001b[38;5;241m=\u001b[39m\u001b[38;5;241m2\u001b[39m,\n\u001b[1;32m  10981\u001b[0m             )\n\u001b[1;32m  10983\u001b[0m other \u001b[38;5;241m=\u001b[39m common\u001b[38;5;241m.\u001b[39mapply_if_callable(other, \u001b[38;5;28mself\u001b[39m)\n\u001b[0;32m> 10984\u001b[0m \u001b[38;5;28;01mreturn\u001b[39;00m \u001b[38;5;28mself\u001b[39m\u001b[38;5;241m.\u001b[39m_where(cond, other, inplace, axis, level)\n",
      "File \u001b[0;32m/opt/anaconda3/lib/python3.12/site-packages/pandas/core/generic.py:10685\u001b[0m, in \u001b[0;36mNDFrame._where\u001b[0;34m(self, cond, other, inplace, axis, level, warn)\u001b[0m\n\u001b[1;32m  10682\u001b[0m     cond \u001b[38;5;241m=\u001b[39m cond\u001b[38;5;241m.\u001b[39mastype(\u001b[38;5;28mbool\u001b[39m)\n\u001b[1;32m  10684\u001b[0m cond \u001b[38;5;241m=\u001b[39m \u001b[38;5;241m-\u001b[39mcond \u001b[38;5;28;01mif\u001b[39;00m inplace \u001b[38;5;28;01melse\u001b[39;00m cond\n\u001b[0;32m> 10685\u001b[0m cond \u001b[38;5;241m=\u001b[39m cond\u001b[38;5;241m.\u001b[39mreindex(\u001b[38;5;28mself\u001b[39m\u001b[38;5;241m.\u001b[39m_info_axis, axis\u001b[38;5;241m=\u001b[39m\u001b[38;5;28mself\u001b[39m\u001b[38;5;241m.\u001b[39m_info_axis_number, copy\u001b[38;5;241m=\u001b[39m\u001b[38;5;28;01mFalse\u001b[39;00m)\n\u001b[1;32m  10687\u001b[0m \u001b[38;5;66;03m# try to align with other\u001b[39;00m\n\u001b[1;32m  10688\u001b[0m \u001b[38;5;28;01mif\u001b[39;00m \u001b[38;5;28misinstance\u001b[39m(other, NDFrame):\n\u001b[1;32m  10689\u001b[0m     \u001b[38;5;66;03m# align with me\u001b[39;00m\n",
      "File \u001b[0;32m/opt/anaconda3/lib/python3.12/site-packages/pandas/core/frame.py:5378\u001b[0m, in \u001b[0;36mDataFrame.reindex\u001b[0;34m(self, labels, index, columns, axis, method, copy, level, fill_value, limit, tolerance)\u001b[0m\n\u001b[1;32m   5359\u001b[0m \u001b[38;5;129m@doc\u001b[39m(\n\u001b[1;32m   5360\u001b[0m     NDFrame\u001b[38;5;241m.\u001b[39mreindex,\n\u001b[1;32m   5361\u001b[0m     klass\u001b[38;5;241m=\u001b[39m_shared_doc_kwargs[\u001b[38;5;124m\"\u001b[39m\u001b[38;5;124mklass\u001b[39m\u001b[38;5;124m\"\u001b[39m],\n\u001b[0;32m   (...)\u001b[0m\n\u001b[1;32m   5376\u001b[0m     tolerance\u001b[38;5;241m=\u001b[39m\u001b[38;5;28;01mNone\u001b[39;00m,\n\u001b[1;32m   5377\u001b[0m ) \u001b[38;5;241m-\u001b[39m\u001b[38;5;241m>\u001b[39m DataFrame:\n\u001b[0;32m-> 5378\u001b[0m     \u001b[38;5;28;01mreturn\u001b[39;00m \u001b[38;5;28msuper\u001b[39m()\u001b[38;5;241m.\u001b[39mreindex(\n\u001b[1;32m   5379\u001b[0m         labels\u001b[38;5;241m=\u001b[39mlabels,\n\u001b[1;32m   5380\u001b[0m         index\u001b[38;5;241m=\u001b[39mindex,\n\u001b[1;32m   5381\u001b[0m         columns\u001b[38;5;241m=\u001b[39mcolumns,\n\u001b[1;32m   5382\u001b[0m         axis\u001b[38;5;241m=\u001b[39maxis,\n\u001b[1;32m   5383\u001b[0m         method\u001b[38;5;241m=\u001b[39mmethod,\n\u001b[1;32m   5384\u001b[0m         copy\u001b[38;5;241m=\u001b[39mcopy,\n\u001b[1;32m   5385\u001b[0m         level\u001b[38;5;241m=\u001b[39mlevel,\n\u001b[1;32m   5386\u001b[0m         fill_value\u001b[38;5;241m=\u001b[39mfill_value,\n\u001b[1;32m   5387\u001b[0m         limit\u001b[38;5;241m=\u001b[39mlimit,\n\u001b[1;32m   5388\u001b[0m         tolerance\u001b[38;5;241m=\u001b[39mtolerance,\n\u001b[1;32m   5389\u001b[0m     )\n",
      "File \u001b[0;32m/opt/anaconda3/lib/python3.12/site-packages/pandas/core/generic.py:5610\u001b[0m, in \u001b[0;36mNDFrame.reindex\u001b[0;34m(self, labels, index, columns, axis, method, copy, level, fill_value, limit, tolerance)\u001b[0m\n\u001b[1;32m   5607\u001b[0m     \u001b[38;5;28;01mreturn\u001b[39;00m \u001b[38;5;28mself\u001b[39m\u001b[38;5;241m.\u001b[39m_reindex_multi(axes, copy, fill_value)\n\u001b[1;32m   5609\u001b[0m \u001b[38;5;66;03m# perform the reindex on the axes\u001b[39;00m\n\u001b[0;32m-> 5610\u001b[0m \u001b[38;5;28;01mreturn\u001b[39;00m \u001b[38;5;28mself\u001b[39m\u001b[38;5;241m.\u001b[39m_reindex_axes(\n\u001b[1;32m   5611\u001b[0m     axes, level, limit, tolerance, method, fill_value, copy\n\u001b[1;32m   5612\u001b[0m )\u001b[38;5;241m.\u001b[39m__finalize__(\u001b[38;5;28mself\u001b[39m, method\u001b[38;5;241m=\u001b[39m\u001b[38;5;124m\"\u001b[39m\u001b[38;5;124mreindex\u001b[39m\u001b[38;5;124m\"\u001b[39m)\n",
      "File \u001b[0;32m/opt/anaconda3/lib/python3.12/site-packages/pandas/core/generic.py:5633\u001b[0m, in \u001b[0;36mNDFrame._reindex_axes\u001b[0;34m(self, axes, level, limit, tolerance, method, fill_value, copy)\u001b[0m\n\u001b[1;32m   5630\u001b[0m     \u001b[38;5;28;01mcontinue\u001b[39;00m\n\u001b[1;32m   5632\u001b[0m ax \u001b[38;5;241m=\u001b[39m \u001b[38;5;28mself\u001b[39m\u001b[38;5;241m.\u001b[39m_get_axis(a)\n\u001b[0;32m-> 5633\u001b[0m new_index, indexer \u001b[38;5;241m=\u001b[39m ax\u001b[38;5;241m.\u001b[39mreindex(\n\u001b[1;32m   5634\u001b[0m     labels, level\u001b[38;5;241m=\u001b[39mlevel, limit\u001b[38;5;241m=\u001b[39mlimit, tolerance\u001b[38;5;241m=\u001b[39mtolerance, method\u001b[38;5;241m=\u001b[39mmethod\n\u001b[1;32m   5635\u001b[0m )\n\u001b[1;32m   5637\u001b[0m axis \u001b[38;5;241m=\u001b[39m \u001b[38;5;28mself\u001b[39m\u001b[38;5;241m.\u001b[39m_get_axis_number(a)\n\u001b[1;32m   5638\u001b[0m obj \u001b[38;5;241m=\u001b[39m obj\u001b[38;5;241m.\u001b[39m_reindex_with_indexers(\n\u001b[1;32m   5639\u001b[0m     {axis: [new_index, indexer]},\n\u001b[1;32m   5640\u001b[0m     fill_value\u001b[38;5;241m=\u001b[39mfill_value,\n\u001b[1;32m   5641\u001b[0m     copy\u001b[38;5;241m=\u001b[39mcopy,\n\u001b[1;32m   5642\u001b[0m     allow_dups\u001b[38;5;241m=\u001b[39m\u001b[38;5;28;01mFalse\u001b[39;00m,\n\u001b[1;32m   5643\u001b[0m )\n",
      "File \u001b[0;32m/opt/anaconda3/lib/python3.12/site-packages/pandas/core/indexes/base.py:4429\u001b[0m, in \u001b[0;36mIndex.reindex\u001b[0;34m(self, target, method, level, limit, tolerance)\u001b[0m\n\u001b[1;32m   4426\u001b[0m     \u001b[38;5;28;01mraise\u001b[39;00m \u001b[38;5;167;01mValueError\u001b[39;00m(\u001b[38;5;124m\"\u001b[39m\u001b[38;5;124mcannot handle a non-unique multi-index!\u001b[39m\u001b[38;5;124m\"\u001b[39m)\n\u001b[1;32m   4427\u001b[0m \u001b[38;5;28;01melif\u001b[39;00m \u001b[38;5;129;01mnot\u001b[39;00m \u001b[38;5;28mself\u001b[39m\u001b[38;5;241m.\u001b[39mis_unique:\n\u001b[1;32m   4428\u001b[0m     \u001b[38;5;66;03m# GH#42568\u001b[39;00m\n\u001b[0;32m-> 4429\u001b[0m     \u001b[38;5;28;01mraise\u001b[39;00m \u001b[38;5;167;01mValueError\u001b[39;00m(\u001b[38;5;124m\"\u001b[39m\u001b[38;5;124mcannot reindex on an axis with duplicate labels\u001b[39m\u001b[38;5;124m\"\u001b[39m)\n\u001b[1;32m   4430\u001b[0m \u001b[38;5;28;01melse\u001b[39;00m:\n\u001b[1;32m   4431\u001b[0m     indexer, _ \u001b[38;5;241m=\u001b[39m \u001b[38;5;28mself\u001b[39m\u001b[38;5;241m.\u001b[39mget_indexer_non_unique(target)\n",
      "\u001b[0;31mValueError\u001b[0m: cannot reindex on an axis with duplicate labels"
     ]
    }
   ],
   "source": [
    "merged_df = pd.concat(dfs)[[\"Year\", \"County\", \"qtr\",\"agglvl_code\", \"agglvl_title\",\"area_fips\",\"area_title\",\n",
    "                            \"avg_wkly_wage\",\"industry_code\",\"industry_title\",\"lq_avg_wkly_wage\",\"lq_month1_emplvl\",\n",
    "                            \"lq_month2_emplvl\",\"lq_month3_emplvl\",\"lq_qtrly_contributions\",\"lq_qtrly_estabs_count\",\n",
    "                            \"lq_total_qtrly_wages\",\"month1_emplvl\",\"month2_emplvl\", \"month3_emplvl\",\"oty_avg_wkly_wage_chg\",\n",
    "                            \"oty_avg_wkly_wage_pct\",\"oty_avg_wkly_wage_pct_chg\",\"oty_month1_emplvl_chg\",\"oty_month1_emplvl_pct\",\n",
    "                            \"oty_month1_emplvl_pct_chg\",\"oty_month2_emplvl_chg\",\"oty_month2_emplvl_pct\",\"oty_month2_emplvl_pct_chg\",\n",
    "                            \"oty_month3_emplvl_chg\",\"oty_month3_emplvl_pct\",\"oty_month3_emplvl_pct_chg\",\"oty_qtrly_contributions_chg\",\n",
    "                            \"oty_qtrly_contributions_pct\",\"oty_qtrly_contributions_pct_chg\",\"oty_qtrly_estabs_count_chg\", \"oty_qtrly_estabs_count_pct_chg\",\n",
    "                            \"oty_total_qtrly_wages_chg\",\"oty_total_qtrly_wages_pct\",\"oty_total_qtrly_wages_pct_chg\",\n",
    "                            \"own_code\",\"own_title\",\"qtr\",\"qtrly_contributions\",\"qtrly_estabs_count\",\"size_code\",\"size_title\",\n",
    "                            \"total_qtrly_wages\",\"year\",\n",
    "                           ]]  # Select which olumns to keep\n",
    "merged_df = merged_df.rename(columns={  # Rename columns for readability and brevity\n",
    "    \"County\":\"County\",\n",
    "    \"Year\":\"Year\",\n",
    "    \"agglvl_code\":\"Aggreg_Code\",\n",
    "    \"agglvl_title\":\"Aggreg_Title\",\n",
    "    \"area_fips\":\"Area_Fips\",\n",
    "    \"area_title\":\"Area_Title\",\n",
    "    \"avg_wkly_wage\":\"Avg_Wk_Wage\",\n",
    "    \"industry_code\":\"Industry_Code\",\n",
    "    \"industry_title\":\"Industry_Title\",\n",
    "    \"lq_avg_wkly_wage\":\"Loc_Avg_Wk_Employ\",\n",
    "    \"lq_month1_emplvl\":\"Loc_Mon1_Employ\",\n",
    "    \"lq_month2_emplvl\":\"Loc_Mon2_Employ\",\n",
    "    \"lq_month3_emplvl\":\"Loc_Mon3_Employ\",\n",
    "    \"lq_qtrly_contributions\":\"Loc_Quart_Cont\",\n",
    "    \"lq_qtrly_estabs_count\":\"Loc_Quart_Est_Ct\",\n",
    "    \"lq_total_qtrly_wages\":\"Loc_Tot_Quart_Wages\",\n",
    "    \"month1_emplvl\":\"Mon1_Employ\",\n",
    "    \"month2_emplvl\":\"Mon2_Employ\",\n",
    "    \"month3_emplvl\":\"Mon3_Employ\",\n",
    "    \"oty_avg_wkly_wage_chg\":\"Endyr_Avg_Wk_Wage\",\n",
    "    \"oty_avg_wkly_wage_pct_chg\":\"Endyr_Avg_Wk_WagePct\",\n",
    "    \"oty_avg_wkly_wage_pct_chg\":\"Endyr_Avg_Wk_WagePctChg\",\n",
    "    \"oty_month1_emplvl_chg\":\"Endyr_Mon1_Employ_Chg\",\n",
    "    \"oty_month1_emplvl_pct\":\"Endyr_Mon1_Employ_Pct\",\n",
    "    \"oty_month1_emplvl_pct_chg\" :\"Endyr_Mon1_Employ_PctChg\",\n",
    "    \"oty_month2_emplvl_chg\":\"Endyr_Mon2_Employ_Chg\",\n",
    "    \"oty_month2_emplvl_pct\":\"Endyr_Mon2_Employ_Pct\",\n",
    "    \"oty_month2_emplvl_pct_chg\":\"Endyr_Mon2_Employ_PctChg\",\n",
    "    \"oty_month3_emplvl_chg\":\"Endyr_Mon3_Employ_Chg\",\n",
    "    \"oty_month3_emplvl_pct\":\"Endyr_Mon3_Employ_Pct\",\n",
    "    \"oty_month3_emplvl_pct_chg\":\"Endyr_Mon3_Employ_PctChg\",\n",
    "    \"oty_qtrly_contributions_chg\":\"Endyr_Quart_Cont_Chg\",\n",
    "    \"oty_qtrly_contributions_pct\":\"Endyr_Quart_Con_Pct\",\n",
    "    \"oty_qtrly_contributions_pct_chg\":\"Endyr_Quart_Cont_PctChg\",\n",
    "    \"oty_qtrly_estabs_count_chg\":\"Endyr_Est_Ct_Chg\",\n",
    "    \"oty_qtrly_estabs_count_pct_chg\":\"Endyr_Est_Ct_PctChg\",\n",
    "    \"oty_total_qtrly_wages_chg\":\"Endyr_Total_Quart_Wages_Chg\",\n",
    "    \"oty_total_qtrly_wages_pct\":\"Endyr_Total_Quart_Wages_Pct\",\n",
    "    \"own_code\":\"Own_Code\",\n",
    "    \"own_title\":\"Own_Title\",\n",
    "    \"qtr\":\"Quarter\",\n",
    "    \"qtrly_contributions\":\"Quarter_Cont\",\n",
    "    \"qtrly_estabs_count\":\"Quart_Est_Ct\",\n",
    "    \"size_code\":\"Size_Code\",\n",
    "    \"size_title\":\"Size_Title\",\n",
    "    \"total_qtrly_wages\":\"Total_Quart_Wages\",\n",
    "    \"year\":\"year\"\n",
    "})\n",
    "clean_df = merged_df[merged_df[\"Quarter\"].isin([1,2,3,4])]  # Example filter; replace as needed.\n",
    "clean_df.head(5)"
   ]
  },
  {
   "cell_type": "code",
   "execution_count": 36,
   "id": "336bdff1-531e-48cc-b096-d824235304e6",
   "metadata": {},
   "outputs": [
    {
     "ename": "KeyError",
     "evalue": "'Quarter'",
     "output_type": "error",
     "traceback": [
      "\u001b[0;31m---------------------------------------------------------------------------\u001b[0m",
      "\u001b[0;31mKeyError\u001b[0m                                  Traceback (most recent call last)",
      "File \u001b[0;32m/opt/anaconda3/lib/python3.12/site-packages/pandas/core/indexes/base.py:3805\u001b[0m, in \u001b[0;36mIndex.get_loc\u001b[0;34m(self, key)\u001b[0m\n\u001b[1;32m   3804\u001b[0m \u001b[38;5;28;01mtry\u001b[39;00m:\n\u001b[0;32m-> 3805\u001b[0m     \u001b[38;5;28;01mreturn\u001b[39;00m \u001b[38;5;28mself\u001b[39m\u001b[38;5;241m.\u001b[39m_engine\u001b[38;5;241m.\u001b[39mget_loc(casted_key)\n\u001b[1;32m   3806\u001b[0m \u001b[38;5;28;01mexcept\u001b[39;00m \u001b[38;5;167;01mKeyError\u001b[39;00m \u001b[38;5;28;01mas\u001b[39;00m err:\n",
      "File \u001b[0;32mindex.pyx:167\u001b[0m, in \u001b[0;36mpandas._libs.index.IndexEngine.get_loc\u001b[0;34m()\u001b[0m\n",
      "File \u001b[0;32mindex.pyx:196\u001b[0m, in \u001b[0;36mpandas._libs.index.IndexEngine.get_loc\u001b[0;34m()\u001b[0m\n",
      "File \u001b[0;32mpandas/_libs/hashtable_class_helper.pxi:7081\u001b[0m, in \u001b[0;36mpandas._libs.hashtable.PyObjectHashTable.get_item\u001b[0;34m()\u001b[0m\n",
      "File \u001b[0;32mpandas/_libs/hashtable_class_helper.pxi:7089\u001b[0m, in \u001b[0;36mpandas._libs.hashtable.PyObjectHashTable.get_item\u001b[0;34m()\u001b[0m\n",
      "\u001b[0;31mKeyError\u001b[0m: 'Quarter'",
      "\nThe above exception was the direct cause of the following exception:\n",
      "\u001b[0;31mKeyError\u001b[0m                                  Traceback (most recent call last)",
      "Cell \u001b[0;32mIn[36], line 4\u001b[0m\n\u001b[1;32m      2\u001b[0m merged_df\u001b[38;5;241m.\u001b[39mdrop(columns\u001b[38;5;241m=\u001b[39m[\u001b[38;5;124m'\u001b[39m\u001b[38;5;124mQuarter\u001b[39m\u001b[38;5;124m'\u001b[39m], inplace\u001b[38;5;241m=\u001b[39m\u001b[38;5;28;01mTrue\u001b[39;00m)\n\u001b[1;32m      3\u001b[0m merged_df\u001b[38;5;241m.\u001b[39mrename(columns\u001b[38;5;241m=\u001b[39m{\u001b[38;5;124m'\u001b[39m\u001b[38;5;124mtmp\u001b[39m\u001b[38;5;124m'\u001b[39m:\u001b[38;5;124m'\u001b[39m\u001b[38;5;124mQuarter\u001b[39m\u001b[38;5;124m'\u001b[39m})\n\u001b[0;32m----> 4\u001b[0m merged_df[\u001b[38;5;124m\"\u001b[39m\u001b[38;5;124mQuarter\u001b[39m\u001b[38;5;124m\"\u001b[39m]\n",
      "File \u001b[0;32m/opt/anaconda3/lib/python3.12/site-packages/pandas/core/frame.py:4102\u001b[0m, in \u001b[0;36mDataFrame.__getitem__\u001b[0;34m(self, key)\u001b[0m\n\u001b[1;32m   4100\u001b[0m \u001b[38;5;28;01mif\u001b[39;00m \u001b[38;5;28mself\u001b[39m\u001b[38;5;241m.\u001b[39mcolumns\u001b[38;5;241m.\u001b[39mnlevels \u001b[38;5;241m>\u001b[39m \u001b[38;5;241m1\u001b[39m:\n\u001b[1;32m   4101\u001b[0m     \u001b[38;5;28;01mreturn\u001b[39;00m \u001b[38;5;28mself\u001b[39m\u001b[38;5;241m.\u001b[39m_getitem_multilevel(key)\n\u001b[0;32m-> 4102\u001b[0m indexer \u001b[38;5;241m=\u001b[39m \u001b[38;5;28mself\u001b[39m\u001b[38;5;241m.\u001b[39mcolumns\u001b[38;5;241m.\u001b[39mget_loc(key)\n\u001b[1;32m   4103\u001b[0m \u001b[38;5;28;01mif\u001b[39;00m is_integer(indexer):\n\u001b[1;32m   4104\u001b[0m     indexer \u001b[38;5;241m=\u001b[39m [indexer]\n",
      "File \u001b[0;32m/opt/anaconda3/lib/python3.12/site-packages/pandas/core/indexes/base.py:3812\u001b[0m, in \u001b[0;36mIndex.get_loc\u001b[0;34m(self, key)\u001b[0m\n\u001b[1;32m   3807\u001b[0m     \u001b[38;5;28;01mif\u001b[39;00m \u001b[38;5;28misinstance\u001b[39m(casted_key, \u001b[38;5;28mslice\u001b[39m) \u001b[38;5;129;01mor\u001b[39;00m (\n\u001b[1;32m   3808\u001b[0m         \u001b[38;5;28misinstance\u001b[39m(casted_key, abc\u001b[38;5;241m.\u001b[39mIterable)\n\u001b[1;32m   3809\u001b[0m         \u001b[38;5;129;01mand\u001b[39;00m \u001b[38;5;28many\u001b[39m(\u001b[38;5;28misinstance\u001b[39m(x, \u001b[38;5;28mslice\u001b[39m) \u001b[38;5;28;01mfor\u001b[39;00m x \u001b[38;5;129;01min\u001b[39;00m casted_key)\n\u001b[1;32m   3810\u001b[0m     ):\n\u001b[1;32m   3811\u001b[0m         \u001b[38;5;28;01mraise\u001b[39;00m InvalidIndexError(key)\n\u001b[0;32m-> 3812\u001b[0m     \u001b[38;5;28;01mraise\u001b[39;00m \u001b[38;5;167;01mKeyError\u001b[39;00m(key) \u001b[38;5;28;01mfrom\u001b[39;00m \u001b[38;5;21;01merr\u001b[39;00m\n\u001b[1;32m   3813\u001b[0m \u001b[38;5;28;01mexcept\u001b[39;00m \u001b[38;5;167;01mTypeError\u001b[39;00m:\n\u001b[1;32m   3814\u001b[0m     \u001b[38;5;66;03m# If we have a listlike key, _check_indexing_error will raise\u001b[39;00m\n\u001b[1;32m   3815\u001b[0m     \u001b[38;5;66;03m#  InvalidIndexError. Otherwise we fall through and re-raise\u001b[39;00m\n\u001b[1;32m   3816\u001b[0m     \u001b[38;5;66;03m#  the TypeError.\u001b[39;00m\n\u001b[1;32m   3817\u001b[0m     \u001b[38;5;28mself\u001b[39m\u001b[38;5;241m.\u001b[39m_check_indexing_error(key)\n",
      "\u001b[0;31mKeyError\u001b[0m: 'Quarter'"
     ]
    }
   ],
   "source": [
    "merged_df['tmp'] = merged_df[\"Quarter\"].values[:,1]\n",
    "merged_df.drop(columns=['Quarter'], inplace=True)\n",
    "merged_df.rename(columns={'tmp':'Quarter'})\n",
    "merged_df[\"Quarter\"]"
   ]
  },
  {
   "cell_type": "code",
   "execution_count": null,
   "id": "aef0c492-8eb5-4a4d-b5f9-398aa66116b2",
   "metadata": {},
   "outputs": [],
   "source": [
    "clean_df.head(5)"
   ]
  },
  {
   "cell_type": "code",
   "execution_count": null,
   "id": "209b9fce-5805-4ed3-8fb2-623aec2586fb",
   "metadata": {},
   "outputs": [],
   "source": [
    "clean_df[\"Quarter\"].unique()"
   ]
  },
  {
   "cell_type": "code",
   "execution_count": null,
   "id": "d8b74e22-e84f-4d6f-88ed-66333f7c2cdb",
   "metadata": {},
   "outputs": [],
   "source": [
    "print(sorted(map(str, merged_df.columns)))"
   ]
  },
  {
   "cell_type": "code",
   "execution_count": null,
   "id": "c64e40bc-eabc-46df-970e-0c188a80ee60",
   "metadata": {},
   "outputs": [],
   "source": [
    "#Columns\n",
    "\n",
    "#County: The name of the county.\n",
    "# Year: The year the data pertains to.\n",
    "#agglvl_code: Aggregation level code, indicating the level of data aggregation (e.g., state, county, industry).\n",
    "#agglvl_title: Title or description of the aggregation level.\n",
    "#area_fips: Federal Information Processing Standards (FIPS) code for the area.\n",
    "#area_title: Name or title of the area.\n",
    "#avg_wkly_wage: Average weekly wage.\n",
    "#disclosure_code: Code indicating if data is withheld or disclosed for privacy reasons.\n",
    "#industry_code: Code representing the industry.\n",
    "#industry_title: Title or name of the industry.\n",
    "#lq_avg_wkly_wage: Location quotient of the average weekly wage, comparing local industry wages to national industry wages.\n",
    "#lq_disclosure_code: Location quotient disclosure code.\n",
    "#lq_month1_emplvl: Employment level for the first month in the location quotient context.\n",
    "#lq_month2_emplvl: Employment level for the second month in the location quotient context.\n",
    "#lq_month3_emplvl: Employment level for the third month in the location quotient context.\n",
    "#lq_qtrly_contributions: Quarterly contributions in the location quotient context.\n",
    "#lq_qtrly_estabs_count: Quarterly establishment count in the location quotient context.\n",
    "#lq_taxable_qtrly_wages: Taxable quarterly wages in the location quotient context.\n",
    "#month1_emplvl: Employment level for the first month.\n",
    "#month2_emplvl: Employment level for the second month.\n",
    "#month3_emplvl: Employment level for the third month.\n",
    "#oty_avg_wkly_wage_chg: Over-the-year change in average weekly wage.\n",
    "#oty_avg_wkly_wage_pct: Over-the-year percentage of the average weekly wage.\n",
    "#oty_avg_wkly_wage_pct_chg: Over-the-year percentage change in average weekly wage.\n",
    "#oty_month1_emplvl_chg: Over-the-year change in employment level for the first month.\n",
    "#oty_month1_emplvl_pct: Over-the-year percentage of employment level for the first month.\n",
    "#oty_month1_emplvl_pct_chg: Over-the-year percentage change in employment level for the first month.\n",
    "#oty_month2_emplvl_chg: Over-the-year change in employment level for the second month.\n",
    "#oty_month2_emplvl_pct: Over-the-year percentage of employment level for the second month.\n",
    "#oty_month2_emplvl_pct_chg: Over-the-year percentage change in employment level for the second month.\n",
    "#oty_month3_emplvl_chg: Over-the-year change in employment level for the third month.\n",
    "#oty_month3_emplvl_pct: Over-the-year percentage of employment level for the third month.\n",
    "#oty_month3_emplvl_pct_chg: Over-the-year percentage change in employment level for the third month.\n",
    "#oty_qtrly_contributions_chg: Over-the-year change in quarterly contributions.\n",
    "#oty_qtrly_contributions_pct: Over-the-year percentage of quarterly contributions.\n",
    "#oty_qtrly_contributions_pct_chg: Over-the-year percentage change in quarterly contributions.\n",
    "#oty_qtrly_estabs_count_chg: Over-the-year change in quarterly establishment count.\n",
    "#oty_qtrly_estabs_count_pct_chg: Over-the-year percentage change in quarterly establishment count.\n",
    "#oty_taxable_qtrly_wages_chg: Over-the-year change in taxable quarterly wages.\n",
    "#oty_taxable_qtrly_wages_chg.1: Duplicate or additional field for over-the-year change in taxable quarterly wages.\n",
    "#oty_taxable_qtrly_wages_pct_chg: Over-the-year percentage change in taxable quarterly wages.\n",
    "#oty_total_qtrly_wages_chg: Over-the-year change in total quarterly wages.\n",
    "#oty_total_qtrly_wages_pct: Over-the-year percentage of total quarterly wages.\n",
    "#oty_total_qtrly_wages_pct_chg: Over-the-year percentage change in total quarterly wages.\n",
    "#own_code: Ownership code, indicating the type of ownership (e.g., private, government).\n",
    "#own_title: Title or description of the ownership type.\n",
    "#qtr: Quarter of the year.\n",
    "#qtrly_contributions: Quarterly contributions.\n",
    "#qtrly_estabs_count: Quarterly establishment count.\n",
    "#size_code: Size code, indicating the size category of establishments.\n",
    "#size_title: Title or description of the size category.\n",
    "#taxable_qtrly_wages: Taxable quarterly wages.\n",
    "#total_qtrly_wages: Total quarterly wages.\n",
    "#year: Year the data pertains to (appears to be a duplicate of column 2)"
   ]
  },
  {
   "cell_type": "code",
   "execution_count": null,
   "id": "3479e1c1-f46d-43ec-9105-33a0fe7337be",
   "metadata": {},
   "outputs": [],
   "source": [
    "#Renamed Columns\n",
    "\n",
    "    #\"County\":\"County\",\n",
    "    #\"Year\":\"Year\",\n",
    "    #\"agglvl_code\":\"Aggreg_Code\",\n",
    "    #\"agglvl_title\":\"Aggreg_Title\",\n",
    "    #\"area_fips\":\"Area_Fips\",\n",
    "    #\"area_title\":\"Area_Title\",\n",
    "    #\"avg_wkly_wage\":\"Avg_Wk_Wage\",\n",
    "    #\"industry_code\":\"Industry_Code\",\n",
    "    #\"industry_title\":\"Industry_Title\",\n",
    "    #\"lq_avg_wkly_wage\":\"Loc_Avg_Wk_Employ\",\n",
    "    #\"lq_month1_emplvl\":\"Loc_Mon1_Employ\",\n",
    "    #\"lq_month3_emplvl\":\"Loc_Mon3_Employ\",\n",
    "    #\"lq_qtrly_contributions\":\"Loc_Quart_Cont\",\n",
    "    #\"lq_qtrly_estabs_count\":\"Loc_Quart_Est_Ct\",\n",
    "    #\"lq_total_qtrly_wages\":\"Loc_Tot_Quart_Wages\",\n",
    "    #\"month1_emplvl\":\"Mon1_Employ\",\n",
    "    #\"month2_emplvl\":\"Mon2_Employ\",\n",
    "    #\"month3_emplvl\":\"Mon3_Employ\",\n",
    "    #\"oty_avg_wkly_wage_chg\":\"Endyr_Avg_Wk_Wage\",\n",
    "    #\"oty_avg_wkly_wage_pct_chg\":\"Endyr_Avg_Wk_WagePct\",\n",
    "    #\"oty_avg_wkly_wage_pct_chg\":\"Endyr_Avg_Wk_WagePctChg\",\n",
    "    #\"oty_month1_emplvl_chg\":\"Endyr_Mon1_Employ_Chg\",\n",
    "    #\"oty_month1_emplvl_pct\":\"Endyr_Mon1_Employ_Pct\",\n",
    "    #\"oty_month1_emplvl_pct_chg\" :\"Endyr_Mon1_Employ_PctChg\",\n",
    "    #\"oty_month2_emplvl_chg\":\"Endyr_Mon2_Employ_Chg\",\n",
    "    #\"oty_month2_emplvl_pct\":\"Endyr_Mon2_Employ_Pct\",\n",
    "    #\"oty_month2_emplvl_pct_chg\":\"Endyr_Mon2_Employ_PctChg\",\n",
    "    #\"oty_month3_emplvl_chg\":\"Endyr_Mon3_Employ_Chg\",\n",
    "    #\"oty_month3_emplvl_pct\":\"Endyr_Mon3_Employ_Pct\",\n",
    "    #\"oty_month3_emplvl_pct_chg\":\"Endyr_Mon3_Employ_PctChg\",\n",
    "    #\"oty_qtrly_contributions_chg\":\"Endyr_Quart_Cont_Chg\",\n",
    "    #\"oty_qtrly_contributions_pct\":\"Endyr_Quart_Con_Pct\",\n",
    "    #\"oty_qtrly_contributions_pct_chg\":\"Endyr_Quart_Cont_PctChg\",\n",
    "    #\"oty_qtrly_estabs_count_chg\":\"Endyr_Est_Ct_Chg\",\n",
    "    #\"oty_qtrly_estabs_count_pct_chg\":\"Endyr_Est_Ct_PctChg\",\n",
    "    #\"oty_total_qtrly_wages_chg\":\"Endyr_Total_Quart_Wages_Chg\",\n",
    "    #\"oty_total_qtrly_wages_pct\":\"Endyr_Total_Quart_Wages_Pct\",\n",
    "    #\"own_code\":\"Own_Code\",\n",
    "    #\"own_title\":\"Own_Title\",\n",
    "    #\"qtr\":\"Quarter\",\n",
    "    #\"qtrly_contributions\":\"Quarter_Cont\",\n",
    "    #\"qtrly_estabs_count\":\"Quart_Est_Ct\",\n",
    "    #\"size_code\":\"Size_Code\",\n",
    "    #\"size_title\":\"Size_Title\",\n",
    "    #\"total_qtrly_wages\":\"Total_Quart_Wages\",\n",
    "    #\"year\":\"year\""
   ]
  },
  {
   "cell_type": "code",
   "execution_count": null,
   "id": "89e65806-c8de-4fe4-9a1d-2a85465b8ce2",
   "metadata": {},
   "outputs": [],
   "source": [
    "# Read the employment data and the nys industry results\n",
    "#first_quarteremployment = pd.read_csv(first_quarteremployment_path)\n",
    "#nys_industrycounty = pd.read_csv(nys_industrycounty_path)\n",
    "\n",
    "# Combine the data into a single DataFrame\n",
    "#first_quarteremployment_nys_industrycounty = pd.merge(first_quarteremployment, nys_industrycounty,on=[\"County\"])\n",
    "\n",
    "# Display the data table for preview\n",
    "#first_quarteremployment_nys_industrycounty.head()"
   ]
  },
  {
   "cell_type": "code",
   "execution_count": null,
   "id": "a4f337b7-d1fc-4289-a4ef-0287d5f0368f",
   "metadata": {},
   "outputs": [],
   "source": [
    "pwd = os.getcwd()  # Get current working directory\n",
    "files = os.listdir()  # Get files in current working directory\n",
    "print(f\"{pwd=!r}\")\n",
    "for file in files:\n",
    "    print(f\"{file=!r}\")"
   ]
  },
  {
   "cell_type": "code",
   "execution_count": null,
   "id": "c2c6c7e3-1559-42dd-8745-334cebc29414",
   "metadata": {},
   "outputs": [],
   "source": [
    "clean_df['Year'] = clean_df['Year'].astype(str)\n",
    "plt.figure(figsize=(8,5))\n",
    "g = sns.FacetGrid(merged_df, hue='Year', size=10, hue_order=['2012',\n",
    "                                                              '2013',\n",
    "                                                              '2014',\n",
    "                                                              '2015',\n",
    "                                                              '2016',\n",
    "                                                              '2017',\n",
    "                                                              '2018',\n",
    "                                                              '2019',\n",
    "                                                              '2020',\n",
    "                                                              '2021',\n",
    "                                                              '2022'], palette=\"Paired\")\n",
    "g.map(sns.kdeplot, \"Total_Quart_Wages\", shade=True)\n",
    "g.set_xticklabels(rotation=45)\n",
    "g.add_legend()\n",
    "plt.show()"
   ]
  },
  {
   "cell_type": "code",
   "execution_count": null,
   "id": "47dd6509-76ad-4b81-8092-bb45661f1438",
   "metadata": {},
   "outputs": [],
   "source": [
    "#Variables that will be considered in the data analysis\n",
    "    #\"County\":\"County\",\n",
    "    #\"Year\":\"Year\",\n",
    "    #\"agglvl_code\":\"Aggreg_Code\",\n",
    "    #\"agglvl_title\":\"Aggreg_Title\",\n",
    "    #\"area_fips\":\"Area_Fips\",\n",
    "    #\"area_title\":\"Area_Title\",\n",
    "    #\"avg_wkly_wage\":\"Avg_Wk_Wage\",\n",
    "    #\"industry_code\":\"Industry_Code\",\n",
    "    #\"industry_title\":\"Industry_Title\",\n",
    "    #\"lq_qtrly_contributions\":\"Loc_Quart_Cont\",\n",
    "    #\"lq_qtrly_estabs_count\":\"Loc_Quart_Est_Ct\",\n",
    "    #\"lq_total_qtrly_wages\":\"Loc_Tot_Quart_Wages\",\n",
    "    #\"oty_avg_wkly_wage_chg\":\"Endyr_Avg_Wk_Wage\",\n",
    "    #\"oty_avg_wkly_wage_pct_chg\":\"Endyr_Avg_Wk_WagePct\",\n",
    "    #\"oty_avg_wkly_wage_pct_chg\":\"Endyr_Avg_Wk_WagePctChg\"\n",
    "    #\"oty_qtrly_contributions_chg\":\"Endyr_Quart_Cont_Chg\",\n",
    "    #\"oty_qtrly_contributions_pct\":\"Endyr_Quart_Con_Pct\",\n",
    "    #\"oty_qtrly_contributions_pct_chg\":\"Endyr_Quart_Cont_PctChg\",\n",
    "    #\"oty_qtrly_estabs_count_chg\":\"Endyr_Est_Ct_Chg\",\n",
    "    #\"oty_qtrly_estabs_count_pct_chg\":\"Endyr_Est_Ct_PctChg\",\n",
    "    #\"oty_total_qtrly_wages_chg\":\"Endyr_Total_Quart_Wages_Chg\",\n",
    "    #\"oty_total_qtrly_wages_pct\":\"Endyr_Total_Quart_Wages_Pct\","
   ]
  },
  {
   "cell_type": "code",
   "execution_count": null,
   "id": "20b01c65-df0a-4923-9cf2-559f5fe5ccb7",
   "metadata": {},
   "outputs": [],
   "source": [
    "#Groupby County and Average Weekly Wage\n",
    "# Generate a summary statistics table of mean, median, variance, standard deviation, and SEM of the average wk wage for each county\n",
    "avg_wk_wage_county_mean = clean_df.groupby('County')['Avg_Wk_Wage ($)'].mean()\n",
    "avg_wk_wage_county_mean\n",
    "\n",
    "avg_wk_wage_county_median = clean_df.groupby('County')['Avg_Wk_Wage ($)'].median()\n",
    "avg_wk_wage_county_median\n",
    "\n",
    "avg_wk_wage_county_variance = clean_df.groupby('County')['Avg_Wk_Wage ($)'].var()\n",
    "avg_wk_wage_county_variance\n",
    "\n",
    "avg_wk_wage_county_standard_deviation = clean_df.groupby('County')['Avg_Wk_Wage ($)'].std()\n",
    "avg_wk_wage_countystandard_deviation\n",
    "\n",
    "avg_wk_wage_county_sem = clean_df.groupby('County')['Avg_Wk_Wage ($)'].sem()\n",
    "avg_wk_wage_county_sem\n",
    "\n",
    "avg_wk_wage_county_stats_table = pd.DataFrame({\"Mean\":avg_wk_wage_county_mean, \"Median\":avg_wk_wage_county_median,\n",
    "                                                 \"Variance\":vg_wk_wage_county_variance, \"Standard Deviation\":avg_wk_wage_county_standard_deviation,\n",
    "                                                 \"Sem\":avg_wk_wage_county_sem})\n",
    "avg_wk_wage_county_summary_stats_table\n",
    "\n",
    "print(avg_wk_wage_countysummary_stats_table)\n",
    "# Use groupby and summary statistical methods to calculate the following properties of each drug regimen:\n",
    "# mean, median, variance, standard deviation, and SEM of the tumor volume.\n",
    "# Assemble the resulting series into a single summary DataFrame."
   ]
  },
  {
   "cell_type": "code",
   "execution_count": null,
   "id": "605d80f3-b9bf-4eb9-88a2-d312acff0ae3",
   "metadata": {},
   "outputs": [],
   "source": [
    "#Info on the dataset\n",
    "clean_df.info()"
   ]
  },
  {
   "cell_type": "code",
   "execution_count": null,
   "id": "dc84aa39-63e5-42fe-9a01-056e84930ffd",
   "metadata": {},
   "outputs": [],
   "source": [
    "#Check the shape of the dataset\n",
    "clean_df.shape"
   ]
  },
  {
   "cell_type": "code",
   "execution_count": null,
   "id": "38742e39-392c-4e4a-aafc-8b7efac00311",
   "metadata": {},
   "outputs": [],
   "source": [
    "print(f\"There are {} rows and {} columns in our data\".format(df.shape[0],df.shape[1])))"
   ]
  },
  {
   "cell_type": "code",
   "execution_count": null,
   "id": "48bd2e2b-ecc7-4a9e-bb41-e3c9cb681b7d",
   "metadata": {},
   "outputs": [],
   "source": [
    "#Check for missing values in the dataset ##Data cleaning\n",
    "clean_df.isnull().sum(axis = 0) #alt code clean_df.isnull().values.any()"
   ]
  },
  {
   "cell_type": "code",
   "execution_count": null,
   "id": "c138b895-b34b-4b39-91a8-afc7f878bfb5",
   "metadata": {},
   "outputs": [],
   "source": [
    "#Drop missing values ##Data cleaning\n",
    "clean_df.isnull().dropna()    #for column in clean_df.columns:\n",
    "                                  #if clean_df[column].isnull().any():\n",
    "                                            #print('{0} has {1} null values.format(colum, df[columb].isnull().sum()))"
   ]
  },
  {
   "cell_type": "code",
   "execution_count": null,
   "id": "1f8c994c-51fb-4b7f-8f6c-f75714493f49",
   "metadata": {},
   "outputs": [],
   "source": [
    "#Summary Statistics of the Numerical dataset \n",
    "clean_df.describe().T"
   ]
  },
  {
   "cell_type": "code",
   "execution_count": null,
   "id": "d2ea5449-9246-47af-a248-b6cc0019141c",
   "metadata": {},
   "outputs": [],
   "source": [
    "#Check how many years\n",
    "clean_df['Year'].value_counts()"
   ]
  },
  {
   "cell_type": "code",
   "execution_count": null,
   "id": "98605b1a-4d66-4c23-acea-71d200afd219",
   "metadata": {},
   "outputs": [],
   "source": [
    "#Check how many counties\n",
    "cleandf['County'].value_counts()"
   ]
  },
  {
   "cell_type": "code",
   "execution_count": null,
   "id": "d1002048-b08d-4c05-b80f-2abdcc8cf44b",
   "metadata": {},
   "outputs": [],
   "source": [
    "#Check how many quarters\n",
    "clean_df['Quarter'].value_counts()"
   ]
  },
  {
   "cell_type": "code",
   "execution_count": null,
   "id": "d95052da-70b7-4c79-b221-a21f68d7d146",
   "metadata": {},
   "outputs": [],
   "source": [
    "#Check how many area fips: Federal info  Processing Standards code for the area\n",
    "clean_df['Area_Fips'].value_counts()"
   ]
  },
  {
   "cell_type": "code",
   "execution_count": null,
   "id": "19fc8175-c197-47ed-8e52-25eff7404eb4",
   "metadata": {},
   "outputs": [],
   "source": [
    "#Check how many average weekly wages #Avg_Wk_Wage\n",
    "clean_df['Avg_Wk_Wage'].value_counts()"
   ]
  },
  {
   "cell_type": "code",
   "execution_count": null,
   "id": "dd52ce22-8631-4256-9335-b7ba68a25294",
   "metadata": {},
   "outputs": [],
   "source": [
    "#\"Check how many Industry_Codes\n",
    "clean_df['Industry_Codes'].value_counts()"
   ]
  },
  {
   "cell_type": "code",
   "execution_count": null,
   "id": "07a01707-aabc-443f-8daf-b24d0e863248",
   "metadata": {},
   "outputs": [],
   "source": [
    "#Check how many Industry_Titles\n",
    "clean_df['Industry_Titles'].value_counts()"
   ]
  },
  {
   "cell_type": "code",
   "execution_count": null,
   "id": "cacc1921-cf89-4087-9750-498dfa7feaca",
   "metadata": {},
   "outputs": [],
   "source": [
    "#Check how many over the year average weekly wage change #Endyr_Avg_Wk_Wage\n",
    "clean_df['Endyr_Avg_Wk_Wage'].value_counts()"
   ]
  },
  {
   "cell_type": "code",
   "execution_count": null,
   "id": "1e26869c-803c-415d-849a-911267b0382b",
   "metadata": {},
   "outputs": [],
   "source": [
    "#Check how many over the year average weekly wage change percentage #Endyr_Avg_Wk_WagePct\n",
    "clean_df['Endyr_Avg_Wk_WagePct'].value_counts()"
   ]
  },
  {
   "cell_type": "code",
   "execution_count": null,
   "id": "85a95ba3-73d0-4af0-8d86-67943ff88716",
   "metadata": {},
   "outputs": [],
   "source": [
    "#Check how many over the year average weekly wage change percentage Endyr_Avg_Wk_WagePctChg\n",
    "clean_df['Endyr_Avg_Wk_WagePctChg'].value_counts()"
   ]
  },
  {
   "cell_type": "code",
   "execution_count": null,
   "id": "04d9f5fc-35ce-40d9-b80f-d821545c6dcd",
   "metadata": {},
   "outputs": [],
   "source": [
    "#Histogram of Average and Weekly Wage\n",
    "\n",
    "plt.hist(clean_df['Avg_Wk_Wage'], bins=50, alpha=  0.5, color='r', label='Avg_Wk_Wage')\n",
    "plt.hist(clean_df['Endyr_Avg_Wk_Wage'],     bins=50, alpha = 0.5, color='b', label='Endyr_Avg_Wk_Wage')\n",
    "plt.xlabel(clean_'Average Weekly Wage ($/year)')\n",
    "plt.title('Distribution of Average Weekly Wage')\n",
    "\n",
    "plt.axvline(clean_df['Avg_Wk_Wage'].quantile(.75), color='r')\n",
    "plt.axvline(clean_df['Endyr_Avg_Wk_Wage'].quantile(.75), color='b')\n",
    "\n",
    "plt.legend()\n",
    "plt.show()"
   ]
  },
  {
   "cell_type": "code",
   "execution_count": null,
   "id": "ab8fcc35-6e29-442a-8cbe-5869ef6ea539",
   "metadata": {},
   "outputs": [],
   "source": [
    "# Industry Titles #Careers\n",
    " \n",
    "Industry_Catergory_df = clean_df['Industry_Title'].value_counts()[:10]\n",
    "plt.figure(figsize=(10,10))\n",
    "res=sns.barplot(x=Industry_Catergory_df, y=Industry_Catergory_df.index)\n",
    "res.set_yticklabels(res.get_ymajorticklabels(), fontsize = 16, color='black')\n",
    "plt.xlabel('Value Counts of Industry Category',fontsize = 16, color='black')\n",
    "plt.ylabel('Top 10 Industry Category Names',fontsize = 16, color='black')\n",
    "plt.title('Industry Categories in NYC and Surrounding Counties',fontsize = 16, color='black')\n",
    "plt.show()"
   ]
  },
  {
   "cell_type": "code",
   "execution_count": null,
   "id": "702c8960-9974-44d1-8dbd-2459eb75b851",
   "metadata": {},
   "outputs": [],
   "source": [
    "# Average Weekly Wages\n",
    " \n",
    "Avg_Wk_Wage_df = clean_df['Avg_Wk_Wage'].value_counts()[:10]\n",
    "plt.figure(figsize=(10,10))\n",
    "res=sns.barplot(x=Avg_Wk_Wage_df, y=Avg_Wk_Wage_df.index)\n",
    "res.set_yticklabels(res.get_ymajorticklabels(), fontsize = 16, color='black')\n",
    "plt.xlabel('Value Counts of Average Weekly Wage',fontsize = 16, color='black')\n",
    "plt.ylabel('Top 10 Average Weekly Wage',fontsize = 16, color='black')\n",
    "plt.title('Average Weekly Wage in NYC and Surrounding Counties',fontsize = 16, color='black')\n",
    "plt.show()"
   ]
  },
  {
   "cell_type": "code",
   "execution_count": null,
   "id": "4d6fa232-cf30-4ce8-8eb5-066c999c247d",
   "metadata": {},
   "outputs": [],
   "source": [
    "# End of year Average Weekly Wages\n",
    " \n",
    "Endyr_Avg_Wk_Wage_df = df['Endyr_Avg_Wk_Wage'].value_counts()[:10]\n",
    "plt.figure(figsize=(10,10))\n",
    "res=sns.barplot(x=Endyr_Avg_Wk_Wage_df, y=Endyr_Avg_Wk_Wage_df.index)\n",
    "res.set_yticklabels(res.get_ymajorticklabels(), fontsize = 16, color='black')\n",
    "plt.xlabel('Value Counts of Average Weekly Wage',fontsize = 16, color='black')\n",
    "plt.ylabel('Top 10 Average Weekly Wage',fontsize = 16, color='black')\n",
    "plt.title('Average Weekly Wage in NYC and Surrounding Counties',fontsize = 16, color='black')\n",
    "plt.show()"
   ]
  },
  {
   "cell_type": "code",
   "execution_count": null,
   "id": "65200960-2d8b-4d2e-9f81-0f5787272976",
   "metadata": {},
   "outputs": [],
   "source": [
    "#ScatterPlot Industry Titles (Careers) per Year\n",
    "clean_df['Year'] = pd.to_datetime(df['Year'], format='%m/%d/%Y')\n",
    "\n",
    "df.set_index('Year', inplace=True)\n",
    "\n",
    "clean_df_monthly = df.resample('M').size()\n",
    "\n",
    "plt.figure(figsize=(12, 6))\n",
    "plt.plot(clean_df_monthly.index, df_monthly.values, marker='o', linestyle='-', color='b')\n",
    "plt.title('Number of Careers Over Time')\n",
    "plt.xlabel('Date')\n",
    "plt.ylabel('Number of Careers')\n",
    "plt.grid(True)\n",
    "plt.show()"
   ]
  },
  {
   "cell_type": "code",
   "execution_count": null,
   "id": "af072c72-2c66-4034-bf71-96aa3d925d86",
   "metadata": {},
   "outputs": [],
   "source": [
    "#Pie chart  #\"oty_avg_wkly_wage_pct_chg\":\"Endyr_Avg_Wk_WagePct\"\n",
    "endyr_awk_wagepct_cts = df['Endyr_Avg_Wk_WagePct'].value_counts()\n",
    "\n",
    "# Plotting\n",
    "plt.figure(figsize=(10, 10))\n",
    "plt.pie(endyr_awk_wageptchg_cts, labels=endyr_awk_wageptchg_cts.index, autopct='%1.1f%%', startangle=140)\n",
    "plt.title('Distribution of End of the Year Average Weekly Wage (% Change)')\n",
    "plt.show()"
   ]
  },
  {
   "cell_type": "code",
   "execution_count": null,
   "id": "63e14b69-5c04-4228-a6f2-15ba3274a84c",
   "metadata": {},
   "outputs": [],
   "source": [
    "#Pie chart #\"oty_avg_wkly_wage_pct_chg\":\"Endyr_Avg_Wk_WagePctChg\"\n",
    "endyr_awk_wagepctchg_cts = df['Endyr_Avg_Wk_WagePctChg'].value_counts()\n",
    "\n",
    "# Plotting\n",
    "plt.figure(figsize=(10, 10))\n",
    "plt.pie(endyr_awk_wagepctchg_cts, labels=endyr_awk_wagepctchg_cts.index, autopct='%1.1f%%', startangle=140)\n",
    "plt.title('Distribution of End of the Year Average Weekly Wage (% Change)')\n",
    "plt.show()"
   ]
  },
  {
   "cell_type": "code",
   "execution_count": null,
   "id": "efe97c22-3f5b-4e58-a24e-eaa7bb489900",
   "metadata": {},
   "outputs": [],
   "source": [
    "#Pie chart #\"oty_qtrly_contributions_chg\":\"Endyr_Quart_Cont_Chg\"\n",
    "endyr_quart_contchg_cts = df['Endyr_Quart_Cont_Chg'].value_counts()\n",
    "\n",
    "# Plotting\n",
    "plt.figure(figsize=(10, 10))\n",
    "plt.pie(endyr_quart_contchg_cts, labels=endyr_quart_contchg_cts.index, autopct='%1.1f%%', startangle=140)\n",
    "plt.title('Distribution of End of the Quarter Contribution Change')\n",
    "plt.show()"
   ]
  },
  {
   "cell_type": "code",
   "execution_count": null,
   "id": "00064035-01fc-483c-97a0-3a16ed6d031f",
   "metadata": {},
   "outputs": [],
   "source": [
    "#Pie chart  #\"oty_qtrly_contributions_pct\":\"Endyr_Quart_Con_Pct\",\n",
    "endyr_quart_contpct_cts = df['Endyr_Quart_Cont_Pct'].value_counts()\n",
    "\n",
    "# Plotting\n",
    "plt.figure(figsize=(10, 10))\n",
    "plt.pie(endyr_quart_contpct_cts, labels=endyr_quart_contpct_cts.index, autopct='%1.1f%%', startangle=140)\n",
    "plt.title('Distribution of End of the Quarter Contribution Percent (%)')\n",
    "plt.show()"
   ]
  },
  {
   "cell_type": "code",
   "execution_count": null,
   "id": "ff419012-831c-4702-851d-3f3f54fdd63e",
   "metadata": {},
   "outputs": [],
   "source": [
    "#Pie chart  #\"oty_qtrly_contributions_pct_chg\":\"Endyr_Quart_Cont_PctChg\",\n",
    "agency_counts = df['Endyr_Quart_Cont_PctChg'].value_counts()\n",
    "\n",
    "# Plotting\n",
    "plt.figure(figsize=(10, 10))\n",
    "plt.pie(agency_counts, labels=agency_counts.index, autopct='%1.1f%%', startangle=140)\n",
    "plt.title('Distribution of End of the Quarter Contribution Percent Change (% Change)')\n",
    "plt.show()"
   ]
  },
  {
   "cell_type": "code",
   "execution_count": null,
   "id": "1f215eee-2799-4e80-a4d7-08094e2990ea",
   "metadata": {},
   "outputs": [],
   "source": [
    "#Attempting to make a bubble chart\n",
    "clean_df['start'] = round(clean_df['Avg_Wk_Wage'])\n",
    "clean_df['start'] = clean_df['start'].astype('int')\n",
    "\n",
    "clean_df['end'] = round(clean_df['Endyr_Avg_Wk_Wage'])\n",
    "clean_df['end'] = clean_df['end'].astype('int')\n",
    "\n",
    "\n",
    "fig = bubbleplot(df, x_column='start', y_column='end', bubble_column='Agency', size_column='# Of Positions', x_title='Avg_Wk_Wage', color_column='Agency', \n",
    "                 y_title='Endyr_Avg_Wk_Wage', title='Career per Average Weekly Wage', x_logscale=False, scale_bubble=3, height=650)\n",
    "\n",
    "py.iplot(fig)"
   ]
  },
  {
   "cell_type": "code",
   "execution_count": null,
   "id": "88f750b5-701c-49a6-8035-0b5185469bbc",
   "metadata": {},
   "outputs": [],
   "source": [
    "#Histogram Industry Title #https://www.kaggle.com/code/dnzcihan/analysing-new-york-technology-data-innovation\n",
    "clean_df['Industry_Title'] = clean_df['Industry_Title']\n",
    "\n",
    "\n",
    "groups = df.groupby(['Industry_Title']).size()\n",
    "plt.figure(figsize=(10, 10))\n",
    "groups.plot.barh()"
   ]
  },
  {
   "cell_type": "code",
   "execution_count": null,
   "id": "d9ac145e-f581-4b6d-b4b0-e22b8fe73b8c",
   "metadata": {},
   "outputs": [],
   "source": [
    "#Histogram County\n",
    "clean_df['County'] = clean_df['County']\n",
    "\n",
    "\n",
    "groups = df.groupby(['County']).size()\n",
    "plt.figure(figsize=(10, 10))\n",
    "groups.plot.barh()"
   ]
  },
  {
   "cell_type": "code",
   "execution_count": null,
   "id": "804e263a-a079-4538-bbfb-3fb6773397f4",
   "metadata": {},
   "outputs": [],
   "source": [
    "#Histogram Year\n",
    "clean_df['Year'] = clean_df['Year']\n",
    "\n",
    "\n",
    "groups = df.groupby(['Year']).size()\n",
    "plt.figure(figsize=(10, 10))\n",
    "groups.plot.barh()"
   ]
  },
  {
   "cell_type": "code",
   "execution_count": null,
   "id": "9ce0d8ec-aa36-4244-adcb-1f6725b7edea",
   "metadata": {},
   "outputs": [],
   "source": [
    "#Histogram Quarter\n",
    "clean_df['Quarter'] = clean_df['Quarter']\n",
    "\n",
    "\n",
    "groups = df.groupby(['Quarter']).size()\n",
    "plt.figure(figsize=(10, 10))\n",
    "groups.plot.barh()"
   ]
  },
  {
   "cell_type": "code",
   "execution_count": 16,
   "id": "2cb96623-290a-4685-99de-aacf4500420f",
   "metadata": {},
   "outputs": [
    {
     "name": "stdout",
     "output_type": "stream",
     "text": [
      "default: str version: A(name=Carlos,none=None,pi=3.1415926,potato=tomato)\n",
      "with_bang_s: str version: A(name=Carlos,none=None,pi=3.1415926,potato=tomato)\n",
      "with_bang_r: repr version: A(name='Carlos',none=None,pi=3.1415926,potato='tomato')\n"
     ]
    }
   ],
   "source": [
    "#d = {\n",
    "    #'potato': 'tomato',\n",
    "    #'pi': 3.14159,\n",
    "    #'#name': 'Carlos',\n",
    "#}\n",
    "#d2 = dict(\n",
    "    #potato='tomato',\n",
    "    3pi=3.14159,\n",
    "    #name='Carlos',\n",
    "#)\n",
    "#class A:\n",
    "    #def __init__(self, , **kwargs):\n",
    "        #for param, arg in kwargs.items():\n",
    "            #setattr(self, param, arg)\n",
    "    #def __str__(self):\n",
    "        #return f\"str version: {self.__class__.__name__}\" \\\n",
    "            #f\"({\",\".join(f\"{param}={arg}\" for param, arg in sorted(self.__dict__.items()))})\"\n",
    "    #def __repr__(self):\n",
    "        #return f\"repr version: {self.__class__.__name__}\" \\\n",
    "            #f\"({','.join(f'{param}={arg!r}' for param, arg in sorted(self.__dict__.items()))})\"\n",
    "\n",
    "#a = A(potato='tomato', pi=3.1415926, name='Carlos', none=None)\n",
    "#print(f\"default: {a}\")\n",
    "#print(f\"with_bang_s: {a!s}\")\n",
    "#print(f\"with_bang_r: {a!r}\")"
   ]
  },
  {
   "cell_type": "code",
   "execution_count": 27,
   "id": "2e604f8a-1e2c-4f8a-90ab-47de42cb76bc",
   "metadata": {},
   "outputs": [
    {
     "data": {
      "text/plain": [
       "'tomato'"
      ]
     },
     "execution_count": 27,
     "metadata": {},
     "output_type": "execute_result"
    }
   ],
   "source": [
    "# `a.potato` is quivalent to `getattr(a, 'potato')`\n"
   ]
  },
  {
   "cell_type": "code",
   "execution_count": 20,
   "id": "1e6434f1-fce7-4873-952d-e20deb2e619d",
   "metadata": {},
   "outputs": [
    {
     "data": {
      "text/plain": [
       "\"'a'\""
      ]
     },
     "execution_count": 20,
     "metadata": {},
     "output_type": "execute_result"
    }
   ],
   "source": [
    "#repr('a')"
   ]
  },
  {
   "cell_type": "code",
   "execution_count": 21,
   "id": "5f232114-8d7e-4689-b1cd-5edd6fddec3a",
   "metadata": {},
   "outputs": [
    {
     "data": {
      "text/plain": [
       "repr version: A(name='Carlos',none=None,pi=3.1415926,potato='tomato')"
      ]
     },
     "execution_count": 21,
     "metadata": {},
     "output_type": "execute_result"
    }
   ],
   "source": [
    "#A(name='Carlos',none=None,pi=3.1415926,potato='tomato')"
   ]
  },
  {
   "cell_type": "code",
   "execution_count": 22,
   "id": "1d5a5b3a-a829-482e-9803-fa061538b8e1",
   "metadata": {},
   "outputs": [],
   "source": [
    "#def mysum(*values):\n",
    "    #s = 0\n",
    "    #for value in values:\n",
    "        #s += value\n",
    "    #return s"
   ]
  },
  {
   "cell_type": "code",
   "execution_count": 59,
   "id": "80e91314-bde5-4209-9430-7fa0d8a92825",
   "metadata": {},
   "outputs": [
    {
     "data": {
      "text/plain": [
       "121"
      ]
     },
     "execution_count": 59,
     "metadata": {},
     "output_type": "execute_result"
    }
   ],
   "source": [
    "#len(counties) *len(years)"
   ]
  },
  {
   "cell_type": "code",
   "execution_count": null,
   "id": "177b1b65-1d23-413f-816f-c3c5a56cac98",
   "metadata": {},
   "outputs": [],
   "source": []
  },
  {
   "cell_type": "code",
   "execution_count": 3,
   "id": "d4140435-7e05-41ea-ab43-da5f769aacfd",
   "metadata": {},
   "outputs": [],
   "source": [
    "#Reference NYC Housing Data\n",
    "\n",
    "#Kaggle Datasets\n",
    "#https://www.kaggle.com/code/shaqiavelli/nyc-geospatial-analysis\n",
    "#https://www.kaggle.com/code/ashokmevada/house-price\n",
    "\n",
    "#NYC Planning #????\n",
    "#https://www.nyc.gov/site/planning/data-maps/open-data/dwn-housing-database.page#housingdevelopmentproject\n",
    "\n",
    "#NYC.GOV Annual Housing Sales 2012-2022\n",
    "#https://www.nyc.gov/site/finance/property/property-annualized-sales-update.page\n",
    "\n",
    "#Reference Bureau of Labor Statistics (bls) API_Key Multiple Series and csv files\n",
    "\n",
    "##bls.gov: https://www.bls.gov/developers/api_signature_v2.htm (API_Key)\n",
    "##https://www.bls.gov/cew/downloadable-data-files.htm (csv files)\n",
    "##https://www.bls.gov/cew/additional-resources/open-data/sample-code.htm (sample python code)"
   ]
  },
  {
   "cell_type": "code",
   "execution_count": null,
   "id": "bbd422b7-3056-4c35-83d9-390841bf0beb",
   "metadata": {},
   "outputs": [],
   "source": [
    "# Study data files\n",
    "#nasdaqdatalink_apidata_path = \"data/Mouse_metadata.csv\"\n",
    "#study_results_path = \"data/Study_results.csv\"\n",
    "\n",
    "# Read the mouse data and the study results\n",
    "#nasdaqdatalink_apidata = pd.read_csv(mouse_metadata_path)\n",
    "#study_results = pd.read_csv(study_results_path)\n",
    "\n",
    "# Combine the data into a single DataFrame\n",
    "#mouse_study_results = pd.merge(mouse_metadata, study_results,on=[\"Mouse ID\"])\n",
    "\n",
    "# Display the data table for preview\n",
    "#mouse_study_results.head()"
   ]
  }
 ],
 "metadata": {
  "kernelspec": {
   "display_name": "Python 3 (ipykernel)",
   "language": "python",
   "name": "python3"
  },
  "language_info": {
   "codemirror_mode": {
    "name": "ipython",
    "version": 3
   },
   "file_extension": ".py",
   "mimetype": "text/x-python",
   "name": "python",
   "nbconvert_exporter": "python",
   "pygments_lexer": "ipython3",
   "version": "3.12.4"
  }
 },
 "nbformat": 4,
 "nbformat_minor": 5
}
